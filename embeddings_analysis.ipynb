{
 "cells": [
  {
   "cell_type": "code",
   "execution_count": 61,
   "metadata": {},
   "outputs": [],
   "source": [
    "import numpy as np\n",
    "import torch\n",
    "from env import MultiAgentEnv\n",
    "from sklearn.ensemble import RandomForestRegressor\n",
    "from tqdm import tqdm\n",
    "import pandas as pd\n",
    "import json\n",
    "import torch.nn as nn\n",
    "import torch.optim as optim\n",
    "from torch.optim import Adam\n",
    "from torch.utils.data import DataLoader, Dataset\n",
    "import random\n",
    "from collections import deque\n",
    "from new_env import New_env\n",
    "import gymnasium as gym\n",
    "from sklearn.metrics import f1_score, accuracy_score\n",
    "from imblearn.over_sampling import RandomOverSampler\n",
    "from joblib import dump, load\n",
    "from sklearn.metrics.pairwise import cosine_similarity, euclidean_distances\n",
    "from sklearn.manifold import TSNE\n",
    "import matplotlib.pyplot as plt"
   ]
  },
  {
   "cell_type": "code",
   "execution_count": 62,
   "metadata": {},
   "outputs": [],
   "source": [
    "#TRAIN\n",
    "X_train = pd.read_csv('/Users/louisedurand-janin/Documents/GitHub/HrFlow_Data_Challenge/data/X_train.csv')\n",
    "X_train['employee embedding'] = X_train['employee embedding'].apply(lambda x: np.array(json.loads(x), dtype=np.float32))\n",
    "X_train['company embedding'] = X_train['company embedding'].apply(lambda x: np.array(json.loads(x), dtype=np.float32))"
   ]
  },
  {
   "cell_type": "code",
   "execution_count": 63,
   "metadata": {},
   "outputs": [],
   "source": [
    "#TEST\n",
    "X_test = pd.read_csv('/Users/louisedurand-janin/Documents/GitHub/HrFlow_Data_Challenge/data/X_test.csv')\n",
    "X_test['employee embedding'] = X_test['employee embedding'].apply(lambda x: np.array(json.loads(x), dtype=np.float32))\n",
    "X_test['company embedding'] = X_test['company embedding'].apply(lambda x: np.array(json.loads(x), dtype=np.float32))"
   ]
  },
  {
   "cell_type": "code",
   "execution_count": 64,
   "metadata": {},
   "outputs": [],
   "source": [
    "#TRAIN\n",
    "y_train = pd.read_csv('/Users/louisedurand-janin/Documents/GitHub/HrFlow_Data_Challenge/data/y_train.csv', index_col=0)\n",
    "encoding_map = {\n",
    "        \"Assistant\": 0,\n",
    "        \"Executive\": 1,\n",
    "        \"Manager\": 2,\n",
    "        \"Director\": 3,\n",
    "    }\n",
    "\n",
    "y_train = np.array([encoding_map[category] for category in y_train['position']])"
   ]
  },
  {
   "cell_type": "code",
   "execution_count": 14,
   "metadata": {},
   "outputs": [],
   "source": [
    "#TEST\n",
    "\n",
    "y_test = pd.read_csv('/Users/louisedurand-janin/Documents/GitHub/HrFlow_Data_Challenge/data/y_test.csv', index_col=0)\n",
    "encoding_map = {\n",
    "        \"Assistant\": 0,\n",
    "        \"Executive\": 1,\n",
    "        \"Manager\": 2,\n",
    "        \"Director\": 3,\n",
    "    }\n",
    "\n",
    "y_test = np.array([encoding_map[category] for category in y_test['position']])"
   ]
  },
  {
   "cell_type": "code",
   "execution_count": 65,
   "metadata": {},
   "outputs": [
    {
     "data": {
      "text/plain": [
       "(29273, 32)"
      ]
     },
     "execution_count": 65,
     "metadata": {},
     "output_type": "execute_result"
    }
   ],
   "source": [
    "#TRAIN\n",
    "\n",
    "employee_array = np.vstack(X_train['employee embedding'].values)\n",
    "employee_array.shape\n",
    "company_array = np.vstack(X_train['company embedding'].values)\n",
    "company_array.shape"
   ]
  },
  {
   "cell_type": "code",
   "execution_count": 66,
   "metadata": {},
   "outputs": [
    {
     "data": {
      "text/plain": [
       "(7327, 32)"
      ]
     },
     "execution_count": 66,
     "metadata": {},
     "output_type": "execute_result"
    }
   ],
   "source": [
    "# TEST\n",
    "employee_array_test = np.vstack(X_test['employee embedding'].values)\n",
    "employee_array_test.shape\n",
    "company_array_test = np.vstack(X_test['company embedding'].values)\n",
    "company_array_test.shape"
   ]
  },
  {
   "cell_type": "code",
   "execution_count": 67,
   "metadata": {},
   "outputs": [],
   "source": [
    "#TEST\n",
    "# Convertir les colonnes d'embeddings en tensors PyTorch\n",
    "employee_embedding_tensor_test = torch.tensor(np.vstack(X_test['employee embedding'].values), dtype=torch.float32)\n",
    "company_embedding_tensor_test = torch.tensor(np.vstack(X_test['company embedding'].values), dtype=torch.float32)\n",
    "\n",
    "# Concaténer les deux tensors le long de la dimension appropriée (axis=1 pour ajouter des colonnes)\n",
    "combined_tensor_test = torch.cat([employee_embedding_tensor_test, company_embedding_tensor_test], dim=1)"
   ]
  },
  {
   "cell_type": "code",
   "execution_count": 68,
   "metadata": {},
   "outputs": [],
   "source": [
    "#TRAIN\n",
    "# Convertir les colonnes d'embeddings en tensors PyTorch\n",
    "employee_embedding_tensor = torch.tensor(np.vstack(X_train['employee embedding'].values), dtype=torch.float32)\n",
    "company_embedding_tensor = torch.tensor(np.vstack(X_train['company embedding'].values), dtype=torch.float32)\n",
    "\n",
    "# Concaténer les deux tensors le long de la dimension appropriée (axis=1 pour ajouter des colonnes)\n",
    "combined_tensor = torch.cat([employee_embedding_tensor, company_embedding_tensor], dim=1)"
   ]
  },
  {
   "cell_type": "code",
   "execution_count": 11,
   "metadata": {},
   "outputs": [
    {
     "name": "stdout",
     "output_type": "stream",
     "text": [
      "[0 1 2 3]\n",
      "(9023, 32)\n",
      "(9023, 9023)\n",
      "Average cosine similarity within class 0: 2.3500935765567066\n",
      "(17793, 32)\n",
      "(17793, 17793)\n",
      "Average cosine similarity within class 1: 2.299694437657398\n",
      "(1101, 32)\n",
      "(1101, 1101)\n",
      "Average cosine similarity within class 2: 2.1468240304225485\n",
      "(1356, 32)\n",
      "(1356, 1356)\n",
      "Average cosine similarity within class 3: 2.350215872260567\n"
     ]
    }
   ],
   "source": [
    "unique_classes = np.unique(y_train)\n",
    "print(unique_classes)\n",
    "for class_label in unique_classes:\n",
    "    class_indices = np.where(y_train == class_label)[0]\n",
    "    class_embeddings = employee_array[class_indices]\n",
    "    print(class_embeddings.shape)\n",
    "    # Compute cosine similarities for all pairs within the class\n",
    "    sim_matrix = euclidean_distances(class_embeddings)\n",
    "    print(sim_matrix.shape)\n",
    "    # Since the similarity matrix includes 1.0 for self-comparisons, we remove them\n",
    "    sim_matrix_no_self = sim_matrix - np.eye(sim_matrix.shape[0])\n",
    "    \n",
    "    # Optionally, calculate the average similarity, excluding self-comparisons\n",
    "    avg_similarity = np.sum(sim_matrix_no_self) / (sim_matrix_no_self.size - sim_matrix.shape[0])\n",
    "    \n",
    "    print(f\"Average cosine similarity within class {class_label}: {avg_similarity}\")"
   ]
  },
  {
   "cell_type": "code",
   "execution_count": 12,
   "metadata": {},
   "outputs": [
    {
     "name": "stdout",
     "output_type": "stream",
     "text": [
      "Average cosine similarity between class 0 and class 1: 2.340502977371216\n",
      "Average cosine similarity between class 0 and class 2: 2.3272368907928467\n",
      "Average cosine similarity between class 0 and class 3: 2.3602793216705322\n",
      "Average cosine similarity between class 1 and class 2: 2.270448684692383\n",
      "Average cosine similarity between class 1 and class 3: 2.3430402278900146\n",
      "Average cosine similarity between class 2 and class 3: 2.3080894947052\n"
     ]
    }
   ],
   "source": [
    "# Iterate over pairs of classes\n",
    "for i in range(4):\n",
    "    for j in range(i+1, 4):\n",
    "        # Indices and embeddings for class i\n",
    "        class_i_indices = np.where(y_train == unique_classes[i])[0]\n",
    "        class_i_embeddings = employee_array[class_i_indices]\n",
    "        \n",
    "        # Indices and embeddings for class j\n",
    "        class_j_indices = np.where(y_train == unique_classes[j])[0]\n",
    "        class_j_embeddings = employee_array[class_j_indices]\n",
    "        \n",
    "        # Compute cosine similarities between all pairs (i, j)\n",
    "        sim_matrix = euclidean_distances(class_i_embeddings, class_j_embeddings)\n",
    "        \n",
    "        # Calculate the average similarity across classes\n",
    "        avg_similarity = np.mean(sim_matrix)\n",
    "        \n",
    "        print(f\"Average cosine similarity between class {unique_classes[i]} and class {unique_classes[j]}: {avg_similarity}\")"
   ]
  },
  {
   "cell_type": "code",
   "execution_count": 20,
   "metadata": {},
   "outputs": [
    {
     "data": {
      "image/png": "[encoded data removed]",
      "text/plain": [
       "<Figure size 800x800 with 1 Axes>"
      ]
     },
     "metadata": {},
     "output_type": "display_data"
    }
   ],
   "source": [
    "tsne = TSNE(n_components=2, random_state=42)\n",
    "embeddings_tsne = tsne.fit_transform(employee_array_test)\n",
    "\n",
    "# Visualisation\n",
    "plt.figure(figsize=(8, 8))\n",
    "for class_label in np.unique(y_test):\n",
    "    plt.scatter(embeddings_tsne[y_test == class_label, 0], embeddings_tsne[y_test == class_label, 1], label=class_label)\n",
    "\n",
    "plt.legend()\n",
    "plt.title(\"Visualisation des embeddings avec t-SNE\")\n",
    "plt.xlabel(\"t-SNE caractéristique 1\")\n",
    "plt.ylabel(\"t-SNE caractéristique 2\")\n",
    "plt.show()"
   ]
  },
  {
   "cell_type": "markdown",
   "metadata": {},
   "source": [
    "Test sur les embeddings du test set"
   ]
  },
  {
   "cell_type": "code",
   "execution_count": 16,
   "metadata": {},
   "outputs": [
    {
     "name": "stdout",
     "output_type": "stream",
     "text": [
      "[0 1 2 3]\n",
      "(1882, 32)\n",
      "(1882, 1882)\n",
      "Average cosine similarity within class 0: 0.6506999485211964\n",
      "(1812, 32)\n",
      "(1812, 1812)\n",
      "Average cosine similarity within class 1: 0.6506771925338704\n",
      "(1818, 32)\n",
      "(1818, 1818)\n",
      "Average cosine similarity within class 2: 0.6477295104324599\n",
      "(1815, 32)\n",
      "(1815, 1815)\n",
      "Average cosine similarity within class 3: 0.6462333947569693\n"
     ]
    }
   ],
   "source": [
    "unique_classes = np.unique(y_train)\n",
    "print(unique_classes)\n",
    "for class_label in unique_classes:\n",
    "    class_indices = np.where(y_test == class_label)[0]\n",
    "    class_embeddings = employee_array_test[class_indices]\n",
    "    print(class_embeddings.shape)\n",
    "    # Compute cosine similarities for all pairs within the class\n",
    "    sim_matrix = cosine_similarity(class_embeddings)\n",
    "    print(sim_matrix.shape)\n",
    "    # Since the similarity matrix includes 1.0 for self-comparisons, we remove them\n",
    "    sim_matrix_no_self = sim_matrix - np.eye(sim_matrix.shape[0])\n",
    "    \n",
    "    # Optionally, calculate the average similarity, excluding self-comparisons\n",
    "    avg_similarity = np.sum(sim_matrix_no_self) / (sim_matrix_no_self.size - sim_matrix.shape[0])\n",
    "    \n",
    "    print(f\"Average cosine similarity within class {class_label}: {avg_similarity}\")"
   ]
  },
  {
   "cell_type": "code",
   "execution_count": 26,
   "metadata": {},
   "outputs": [
    {
     "name": "stdout",
     "output_type": "stream",
     "text": [
      "[0 1 2 3]\n",
      "(1882, 32)\n",
      "Vecteur moyen class 0 [ 0.20281485 -0.13659811  0.08464289  0.2125426  -0.01995737  0.05332949\n",
      "  0.491134   -0.01756974  0.17556298 -0.13218151 -0.50001806 -0.00234428\n",
      "  0.8757091  -0.46227875  0.38744426 -0.00906204 -0.68266356 -0.71906334\n",
      "  0.77431273 -0.03927781 -0.22771677  0.17176247  0.35500595 -0.00741736\n",
      "  0.24770251  0.53486145 -0.11240982  0.4238156  -0.87821436 -0.4516571\n",
      " -0.15876378 -0.05595082]\n",
      "(1882, 1882)\n",
      "Average cosine similarity within class 0: 2.3401052794382595\n",
      "(1812, 32)\n",
      "Vecteur moyen class 1 [ 0.18875197 -0.15827966  0.07706068  0.22924162 -0.0129561   0.07127767\n",
      "  0.49042746 -0.02386225  0.17309102 -0.13036498 -0.49475053 -0.00682231\n",
      "  0.87596035 -0.46884388  0.38435167  0.00598109 -0.68079245 -0.7274865\n",
      "  0.777862   -0.02392612 -0.23109205  0.16092841  0.35319668 -0.00399665\n",
      "  0.25266296  0.5421242  -0.10129988  0.41980645 -0.8785145  -0.4442011\n",
      " -0.15487373 -0.04993025]\n",
      "(1812, 1812)\n",
      "Average cosine similarity within class 1: 2.342614236648295\n",
      "(1818, 32)\n",
      "Vecteur moyen class 2 [ 0.19678114 -0.13844529  0.09489816  0.21204568 -0.03781591  0.04902069\n",
      "  0.506344   -0.01539455  0.17383362 -0.13028812 -0.4977187  -0.00375179\n",
      "  0.87569666 -0.46774745  0.3798881   0.00559473 -0.67677015 -0.7313796\n",
      "  0.77636737 -0.00763272 -0.2375746   0.15695442  0.356136   -0.01604711\n",
      "  0.24511814  0.54026544 -0.10649919  0.4207973  -0.8696056  -0.4550721\n",
      " -0.14981061 -0.02823027]\n",
      "(1818, 1818)\n",
      "Average cosine similarity within class 2: 2.3557937285958253\n",
      "(1815, 32)\n",
      "Vecteur moyen class 3 [ 0.20976081 -0.12717181  0.07467632  0.21948513 -0.02049418  0.05180222\n",
      "  0.49166805 -0.01570005  0.1723203  -0.13004573 -0.496404   -0.01914106\n",
      "  0.8753799  -0.46937865  0.37711182  0.00973265 -0.678255   -0.7243101\n",
      "  0.77527815 -0.0240742  -0.22846451  0.14691244  0.34450287 -0.012118\n",
      "  0.25129282  0.5343583  -0.10768916  0.42397252 -0.8699977  -0.4505308\n",
      " -0.15451497 -0.05848878]\n",
      "(1815, 1815)\n",
      "Average cosine similarity within class 3: 2.356513957642974\n"
     ]
    }
   ],
   "source": [
    "unique_classes = np.unique(y_train)\n",
    "print(unique_classes)\n",
    "for class_label in unique_classes:\n",
    "    class_indices = np.where(y_test == class_label)[0]\n",
    "    class_embeddings = employee_array_test[class_indices]\n",
    "    print(class_embeddings.shape)\n",
    "    print(\"Vecteur moyen class\", class_label, np.mean(class_embeddings, axis=0))\n",
    "    # Compute cosine similarities for all pairs within the class\n",
    "    sim_matrix = euclidean_distances(class_embeddings)\n",
    "    print(sim_matrix.shape)\n",
    "    # Since the similarity matrix includes 1.0 for self-comparisons, we remove them\n",
    "    sim_matrix_no_self = sim_matrix - np.eye(sim_matrix.shape[0])\n",
    "    \n",
    "    # Optionally, calculate the average similarity, excluding self-comparisons\n",
    "    avg_similarity = np.sum(sim_matrix_no_self) / (sim_matrix_no_self.size - sim_matrix.shape[0])\n",
    "    \n",
    "    print(f\"Average cosine similarity within class {class_label}: {avg_similarity}\")"
   ]
  },
  {
   "cell_type": "code",
   "execution_count": 19,
   "metadata": {},
   "outputs": [
    {
     "name": "stdout",
     "output_type": "stream",
     "text": [
      "i (9023, 32)\n",
      "j (17793, 32)\n",
      "(9023, 17793)\n",
      "Average cosine similarity between class 0 and class 1: 0.6536845564842224\n",
      "i (9023, 32)\n",
      "j (1101, 32)\n",
      "(9023, 1101)\n",
      "Average cosine similarity between class 0 and class 2: 0.6583091020584106\n",
      "i (9023, 32)\n",
      "j (1356, 32)\n",
      "(9023, 1356)\n",
      "Average cosine similarity between class 0 and class 3: 0.6520729660987854\n",
      "i (17793, 32)\n",
      "j (1101, 32)\n",
      "(17793, 1101)\n",
      "Average cosine similarity between class 1 and class 2: 0.6696447134017944\n",
      "i (17793, 32)\n",
      "j (1356, 32)\n",
      "(17793, 1356)\n",
      "Average cosine similarity between class 1 and class 3: 0.6529146432876587\n",
      "i (1101, 32)\n",
      "j (1356, 32)\n",
      "(1101, 1356)\n",
      "Average cosine similarity between class 2 and class 3: 0.6635869145393372\n"
     ]
    }
   ],
   "source": [
    "# Iterate over pairs of classes\n",
    "for i in range(4):\n",
    "    for j in range(i+1, 4):\n",
    "        # Indices and embeddings for class i\n",
    "        class_i_indices = np.where(y_train == unique_classes[i])[0]\n",
    "        class_i_embeddings = employee_array[class_i_indices]\n",
    "        \n",
    "        # Indices and embeddings for class j\n",
    "        class_j_indices = np.where(y_train == unique_classes[j])[0]\n",
    "        class_j_embeddings = employee_array[class_j_indices]\n",
    "        print(\"i\", class_i_embeddings.shape)\n",
    "        print(\"j\", class_j_embeddings.shape)\n",
    "        # Compute cosine similarities between all pairs (i, j)\n",
    "        sim_matrix = cosine_similarity(class_i_embeddings, class_j_embeddings)\n",
    "        print(sim_matrix.shape)\n",
    "        # Calculate the average similarity across classes\n",
    "        avg_similarity = np.mean(sim_matrix)\n",
    "        \n",
    "        print(f\"Average cosine similarity between class {unique_classes[i]} and class {unique_classes[j]}: {avg_similarity}\")"
   ]
  },
  {
   "cell_type": "code",
   "execution_count": 29,
   "metadata": {},
   "outputs": [
    {
     "data": {
      "text/plain": [
       "torch.Size([29273, 64])"
      ]
     },
     "execution_count": 29,
     "metadata": {},
     "output_type": "execute_result"
    }
   ],
   "source": [
    "combined_tensor.shape"
   ]
  },
  {
   "cell_type": "code",
   "execution_count": 31,
   "metadata": {},
   "outputs": [
    {
     "data": {
      "text/plain": [
       "torch.Size([29273])"
      ]
     },
     "execution_count": 31,
     "metadata": {},
     "output_type": "execute_result"
    }
   ],
   "source": [
    "torch.tensor(y_train).shape"
   ]
  },
  {
   "cell_type": "markdown",
   "metadata": {},
   "source": [
    "# Contrastive Learning"
   ]
  },
  {
   "cell_type": "code",
   "execution_count": 70,
   "metadata": {},
   "outputs": [],
   "source": [
    "\n",
    "\n",
    "class EmbeddingAdjustmentModel(nn.Module):\n",
    "    def __init__(self, embedding_dim, output_dim):\n",
    "        super(EmbeddingAdjustmentModel, self).__init__()\n",
    "        self.fc = nn.Sequential(\n",
    "            nn.Linear(embedding_dim, 512),\n",
    "            nn.ReLU(),\n",
    "            nn.Linear(512, output_dim),\n",
    "            nn.ReLU()\n",
    "        )\n",
    "        \n",
    "    def forward(self, x):\n",
    "        x = self.fc(x)\n",
    "        return x\n"
   ]
  },
  {
   "cell_type": "code",
   "execution_count": 74,
   "metadata": {},
   "outputs": [
    {
     "name": "stderr",
     "output_type": "stream",
     "text": [
      "  1%|          | 1/100 [44:57<74:10:32, 2697.30s/it]"
     ]
    },
    {
     "name": "stdout",
     "output_type": "stream",
     "text": [
      "Epoch [1/100], Loss: 0.540036678314209\n"
     ]
    },
    {
     "name": "stderr",
     "output_type": "stream",
     "text": [
      "  2%|▏         | 2/100 [1:11:18<55:33:30, 2040.93s/it]"
     ]
    },
    {
     "name": "stdout",
     "output_type": "stream",
     "text": [
      "Epoch [2/100], Loss: 0.7649509310722351\n"
     ]
    },
    {
     "name": "stderr",
     "output_type": "stream",
     "text": [
      "  3%|▎         | 3/100 [1:18:04<34:52:45, 1294.49s/it]"
     ]
    },
    {
     "name": "stdout",
     "output_type": "stream",
     "text": [
      "Epoch [3/100], Loss: 0.5613411068916321\n"
     ]
    },
    {
     "name": "stderr",
     "output_type": "stream",
     "text": [
      "  4%|▍         | 4/100 [1:25:56<25:51:26, 969.65s/it] "
     ]
    },
    {
     "name": "stdout",
     "output_type": "stream",
     "text": [
      "Epoch [4/100], Loss: 0.4011843204498291\n"
     ]
    },
    {
     "name": "stderr",
     "output_type": "stream",
     "text": [
      "  5%|▌         | 5/100 [1:33:07<20:27:33, 775.30s/it]"
     ]
    },
    {
     "name": "stdout",
     "output_type": "stream",
     "text": [
      "Epoch [5/100], Loss: 0.6211049556732178\n"
     ]
    },
    {
     "name": "stderr",
     "output_type": "stream",
     "text": [
      "  6%|▌         | 6/100 [1:46:24<20:26:25, 782.82s/it]"
     ]
    },
    {
     "name": "stdout",
     "output_type": "stream",
     "text": [
      "Epoch [6/100], Loss: 0.33778899908065796\n"
     ]
    },
    {
     "name": "stderr",
     "output_type": "stream",
     "text": [
      "  7%|▋         | 7/100 [1:53:33<17:13:45, 666.94s/it]"
     ]
    },
    {
     "name": "stdout",
     "output_type": "stream",
     "text": [
      "Epoch [7/100], Loss: 0.5243014693260193\n"
     ]
    },
    {
     "name": "stderr",
     "output_type": "stream",
     "text": [
      "  8%|▊         | 8/100 [2:00:24<14:58:01, 585.67s/it]"
     ]
    },
    {
     "name": "stdout",
     "output_type": "stream",
     "text": [
      "Epoch [8/100], Loss: 0.5541859269142151\n"
     ]
    },
    {
     "name": "stderr",
     "output_type": "stream",
     "text": [
      "  9%|▉         | 9/100 [2:07:48<13:40:49, 541.20s/it]"
     ]
    },
    {
     "name": "stdout",
     "output_type": "stream",
     "text": [
      "Epoch [9/100], Loss: 0.49339374899864197\n"
     ]
    },
    {
     "name": "stderr",
     "output_type": "stream",
     "text": [
      " 10%|█         | 10/100 [2:14:48<12:35:47, 503.86s/it]"
     ]
    },
    {
     "name": "stdout",
     "output_type": "stream",
     "text": [
      "Epoch [10/100], Loss: 0.665067732334137\n"
     ]
    },
    {
     "name": "stderr",
     "output_type": "stream",
     "text": [
      " 11%|█         | 11/100 [2:38:36<19:26:47, 786.60s/it]"
     ]
    },
    {
     "name": "stdout",
     "output_type": "stream",
     "text": [
      "Epoch [11/100], Loss: 0.6732469797134399\n"
     ]
    },
    {
     "name": "stderr",
     "output_type": "stream",
     "text": [
      " 12%|█▏        | 12/100 [2:47:47<17:28:43, 715.04s/it]"
     ]
    },
    {
     "name": "stdout",
     "output_type": "stream",
     "text": [
      "Epoch [12/100], Loss: 0.42673787474632263\n"
     ]
    },
    {
     "name": "stderr",
     "output_type": "stream",
     "text": [
      " 13%|█▎        | 13/100 [2:56:21<15:48:40, 654.26s/it]"
     ]
    },
    {
     "name": "stdout",
     "output_type": "stream",
     "text": [
      "Epoch [13/100], Loss: 0.45815059542655945\n"
     ]
    },
    {
     "name": "stderr",
     "output_type": "stream",
     "text": [
      " 14%|█▍        | 14/100 [3:04:25<14:24:03, 602.83s/it]"
     ]
    },
    {
     "name": "stdout",
     "output_type": "stream",
     "text": [
      "Epoch [14/100], Loss: 0.5268642902374268\n"
     ]
    },
    {
     "name": "stderr",
     "output_type": "stream",
     "text": [
      " 15%|█▌        | 15/100 [3:12:39<13:27:18, 569.87s/it]"
     ]
    },
    {
     "name": "stdout",
     "output_type": "stream",
     "text": [
      "Epoch [15/100], Loss: 0.42285698652267456\n"
     ]
    },
    {
     "name": "stderr",
     "output_type": "stream",
     "text": [
      " 16%|█▌        | 16/100 [3:20:39<12:39:57, 542.83s/it]"
     ]
    },
    {
     "name": "stdout",
     "output_type": "stream",
     "text": [
      "Epoch [16/100], Loss: 0.4933449923992157\n"
     ]
    },
    {
     "name": "stderr",
     "output_type": "stream",
     "text": [
      " 17%|█▋        | 17/100 [3:28:38<12:04:14, 523.54s/it]"
     ]
    },
    {
     "name": "stdout",
     "output_type": "stream",
     "text": [
      "Epoch [17/100], Loss: 0.32255667448043823\n"
     ]
    },
    {
     "name": "stderr",
     "output_type": "stream",
     "text": [
      " 18%|█▊        | 18/100 [3:37:03<11:48:12, 518.20s/it]"
     ]
    },
    {
     "name": "stdout",
     "output_type": "stream",
     "text": [
      "Epoch [18/100], Loss: 0.5273322463035583\n"
     ]
    },
    {
     "name": "stderr",
     "output_type": "stream",
     "text": [
      " 19%|█▉        | 19/100 [3:48:12<12:40:39, 563.45s/it]"
     ]
    },
    {
     "name": "stdout",
     "output_type": "stream",
     "text": [
      "Epoch [19/100], Loss: 0.5589088797569275\n"
     ]
    },
    {
     "name": "stderr",
     "output_type": "stream",
     "text": [
      " 20%|██        | 20/100 [3:59:47<13:23:58, 602.99s/it]"
     ]
    },
    {
     "name": "stdout",
     "output_type": "stream",
     "text": [
      "Epoch [20/100], Loss: 0.5210264921188354\n"
     ]
    },
    {
     "name": "stderr",
     "output_type": "stream",
     "text": [
      " 21%|██        | 21/100 [4:10:24<13:27:24, 613.22s/it]"
     ]
    },
    {
     "name": "stdout",
     "output_type": "stream",
     "text": [
      "Epoch [21/100], Loss: 0.47178757190704346\n"
     ]
    },
    {
     "name": "stderr",
     "output_type": "stream",
     "text": [
      " 22%|██▏       | 22/100 [4:20:30<13:14:08, 610.87s/it]"
     ]
    },
    {
     "name": "stdout",
     "output_type": "stream",
     "text": [
      "Epoch [22/100], Loss: 0.5675848722457886\n"
     ]
    },
    {
     "name": "stderr",
     "output_type": "stream",
     "text": [
      " 23%|██▎       | 23/100 [4:30:53<13:08:43, 614.59s/it]"
     ]
    },
    {
     "name": "stdout",
     "output_type": "stream",
     "text": [
      "Epoch [23/100], Loss: 0.3129535913467407\n"
     ]
    },
    {
     "name": "stderr",
     "output_type": "stream",
     "text": [
      " 24%|██▍       | 24/100 [4:41:34<13:08:27, 622.47s/it]"
     ]
    },
    {
     "name": "stdout",
     "output_type": "stream",
     "text": [
      "Epoch [24/100], Loss: 0.5415186882019043\n"
     ]
    },
    {
     "name": "stderr",
     "output_type": "stream",
     "text": [
      " 25%|██▌       | 25/100 [5:07:20<18:44:32, 899.63s/it]"
     ]
    },
    {
     "name": "stdout",
     "output_type": "stream",
     "text": [
      "Epoch [25/100], Loss: 0.35467982292175293\n"
     ]
    },
    {
     "name": "stderr",
     "output_type": "stream",
     "text": [
      " 26%|██▌       | 26/100 [5:17:25<16:40:34, 811.28s/it]"
     ]
    },
    {
     "name": "stdout",
     "output_type": "stream",
     "text": [
      "Epoch [26/100], Loss: 0.4595910608768463\n"
     ]
    },
    {
     "name": "stderr",
     "output_type": "stream",
     "text": [
      " 27%|██▋       | 27/100 [5:26:53<14:58:04, 738.14s/it]"
     ]
    },
    {
     "name": "stdout",
     "output_type": "stream",
     "text": [
      "Epoch [27/100], Loss: 0.3056975305080414\n"
     ]
    },
    {
     "name": "stderr",
     "output_type": "stream",
     "text": [
      " 28%|██▊       | 28/100 [5:35:51<13:33:37, 678.02s/it]"
     ]
    },
    {
     "name": "stdout",
     "output_type": "stream",
     "text": [
      "Epoch [28/100], Loss: 0.49435845017433167\n"
     ]
    },
    {
     "name": "stderr",
     "output_type": "stream",
     "text": [
      " 29%|██▉       | 29/100 [7:23:10<47:27:34, 2406.39s/it]"
     ]
    },
    {
     "name": "stdout",
     "output_type": "stream",
     "text": [
      "Epoch [29/100], Loss: 0.5287632942199707\n"
     ]
    },
    {
     "name": "stderr",
     "output_type": "stream",
     "text": [
      " 30%|███       | 30/100 [7:33:14<36:16:35, 1865.65s/it]"
     ]
    },
    {
     "name": "stdout",
     "output_type": "stream",
     "text": [
      "Epoch [30/100], Loss: 0.5516043901443481\n"
     ]
    },
    {
     "name": "stderr",
     "output_type": "stream",
     "text": [
      " 31%|███       | 31/100 [7:42:25<28:12:08, 1471.43s/it]"
     ]
    },
    {
     "name": "stdout",
     "output_type": "stream",
     "text": [
      "Epoch [31/100], Loss: 0.41112351417541504\n"
     ]
    },
    {
     "name": "stderr",
     "output_type": "stream",
     "text": [
      " 32%|███▏      | 32/100 [7:51:38<22:35:22, 1195.92s/it]"
     ]
    },
    {
     "name": "stdout",
     "output_type": "stream",
     "text": [
      "Epoch [32/100], Loss: 0.6333831548690796\n"
     ]
    },
    {
     "name": "stderr",
     "output_type": "stream",
     "text": [
      " 33%|███▎      | 33/100 [9:03:04<39:30:27, 2122.80s/it]"
     ]
    },
    {
     "name": "stdout",
     "output_type": "stream",
     "text": [
      "Epoch [33/100], Loss: 0.5338558554649353\n"
     ]
    },
    {
     "name": "stderr",
     "output_type": "stream",
     "text": [
      " 34%|███▍      | 34/100 [9:07:34<28:43:44, 1567.03s/it]"
     ]
    },
    {
     "name": "stdout",
     "output_type": "stream",
     "text": [
      "Epoch [34/100], Loss: 0.2782452404499054\n"
     ]
    },
    {
     "name": "stderr",
     "output_type": "stream",
     "text": [
      " 35%|███▌      | 35/100 [9:11:36<21:06:49, 1169.37s/it]"
     ]
    },
    {
     "name": "stdout",
     "output_type": "stream",
     "text": [
      "Epoch [35/100], Loss: 0.4062117636203766\n"
     ]
    },
    {
     "name": "stderr",
     "output_type": "stream",
     "text": [
      " 36%|███▌      | 36/100 [9:14:21<15:26:04, 868.19s/it] "
     ]
    },
    {
     "name": "stdout",
     "output_type": "stream",
     "text": [
      "Epoch [36/100], Loss: 0.7568092346191406\n"
     ]
    },
    {
     "name": "stderr",
     "output_type": "stream",
     "text": [
      " 37%|███▋      | 37/100 [9:17:16<11:33:18, 660.30s/it]"
     ]
    },
    {
     "name": "stdout",
     "output_type": "stream",
     "text": [
      "Epoch [37/100], Loss: 0.3765539824962616\n"
     ]
    },
    {
     "name": "stderr",
     "output_type": "stream",
     "text": [
      " 38%|███▊      | 38/100 [9:20:26<8:56:30, 519.20s/it] "
     ]
    },
    {
     "name": "stdout",
     "output_type": "stream",
     "text": [
      "Epoch [38/100], Loss: 0.4435386657714844\n"
     ]
    },
    {
     "name": "stderr",
     "output_type": "stream",
     "text": [
      " 39%|███▉      | 39/100 [9:23:15<7:00:51, 413.95s/it]"
     ]
    },
    {
     "name": "stdout",
     "output_type": "stream",
     "text": [
      "Epoch [39/100], Loss: 0.4128950536251068\n"
     ]
    },
    {
     "name": "stderr",
     "output_type": "stream",
     "text": [
      " 40%|████      | 40/100 [9:25:57<5:38:27, 338.45s/it]"
     ]
    },
    {
     "name": "stdout",
     "output_type": "stream",
     "text": [
      "Epoch [40/100], Loss: 0.48773106932640076\n"
     ]
    },
    {
     "name": "stderr",
     "output_type": "stream",
     "text": [
      " 41%|████      | 41/100 [9:28:41<4:41:26, 286.20s/it]"
     ]
    },
    {
     "name": "stdout",
     "output_type": "stream",
     "text": [
      "Epoch [41/100], Loss: 0.3100377023220062\n"
     ]
    },
    {
     "name": "stderr",
     "output_type": "stream",
     "text": [
      " 42%|████▏     | 42/100 [9:32:04<4:12:38, 261.35s/it]"
     ]
    },
    {
     "name": "stdout",
     "output_type": "stream",
     "text": [
      "Epoch [42/100], Loss: 0.5279582738876343\n"
     ]
    },
    {
     "name": "stderr",
     "output_type": "stream",
     "text": [
      " 43%|████▎     | 43/100 [9:35:28<3:51:48, 244.00s/it]"
     ]
    },
    {
     "name": "stdout",
     "output_type": "stream",
     "text": [
      "Epoch [43/100], Loss: 0.600106954574585\n"
     ]
    },
    {
     "name": "stderr",
     "output_type": "stream",
     "text": [
      " 44%|████▍     | 44/100 [9:38:47<3:35:15, 230.63s/it]"
     ]
    },
    {
     "name": "stdout",
     "output_type": "stream",
     "text": [
      "Epoch [44/100], Loss: 0.36374545097351074\n"
     ]
    },
    {
     "name": "stderr",
     "output_type": "stream",
     "text": [
      " 45%|████▌     | 45/100 [9:41:46<3:17:00, 214.92s/it]"
     ]
    },
    {
     "name": "stdout",
     "output_type": "stream",
     "text": [
      "Epoch [45/100], Loss: 0.4142543375492096\n"
     ]
    },
    {
     "name": "stderr",
     "output_type": "stream",
     "text": [
      " 46%|████▌     | 46/100 [9:44:20<2:56:58, 196.64s/it]"
     ]
    },
    {
     "name": "stdout",
     "output_type": "stream",
     "text": [
      "Epoch [46/100], Loss: 0.4582207500934601\n"
     ]
    },
    {
     "name": "stderr",
     "output_type": "stream",
     "text": [
      " 47%|████▋     | 47/100 [9:46:54<2:42:24, 183.86s/it]"
     ]
    },
    {
     "name": "stdout",
     "output_type": "stream",
     "text": [
      "Epoch [47/100], Loss: 0.32869893312454224\n"
     ]
    },
    {
     "name": "stderr",
     "output_type": "stream",
     "text": [
      " 48%|████▊     | 48/100 [9:49:29<2:31:47, 175.15s/it]"
     ]
    },
    {
     "name": "stdout",
     "output_type": "stream",
     "text": [
      "Epoch [48/100], Loss: 0.3442344665527344\n"
     ]
    },
    {
     "name": "stderr",
     "output_type": "stream",
     "text": [
      " 49%|████▉     | 49/100 [9:52:04<2:23:52, 169.26s/it]"
     ]
    },
    {
     "name": "stdout",
     "output_type": "stream",
     "text": [
      "Epoch [49/100], Loss: 0.4075514078140259\n"
     ]
    },
    {
     "name": "stderr",
     "output_type": "stream",
     "text": [
      " 50%|█████     | 50/100 [9:54:39<2:17:35, 165.11s/it]"
     ]
    },
    {
     "name": "stdout",
     "output_type": "stream",
     "text": [
      "Epoch [50/100], Loss: 0.3595333993434906\n"
     ]
    },
    {
     "name": "stderr",
     "output_type": "stream",
     "text": [
      " 51%|█████     | 51/100 [9:57:15<2:12:23, 162.12s/it]"
     ]
    },
    {
     "name": "stdout",
     "output_type": "stream",
     "text": [
      "Epoch [51/100], Loss: 0.43724334239959717\n"
     ]
    },
    {
     "name": "stderr",
     "output_type": "stream",
     "text": [
      " 52%|█████▏    | 52/100 [9:59:49<2:07:52, 159.85s/it]"
     ]
    },
    {
     "name": "stdout",
     "output_type": "stream",
     "text": [
      "Epoch [52/100], Loss: 0.3634631335735321\n"
     ]
    },
    {
     "name": "stderr",
     "output_type": "stream",
     "text": [
      " 53%|█████▎    | 53/100 [10:02:26<2:04:24, 158.83s/it]"
     ]
    },
    {
     "name": "stdout",
     "output_type": "stream",
     "text": [
      "Epoch [53/100], Loss: 0.49948379397392273\n"
     ]
    },
    {
     "name": "stderr",
     "output_type": "stream",
     "text": [
      " 54%|█████▍    | 54/100 [10:06:22<2:19:31, 181.99s/it]"
     ]
    },
    {
     "name": "stdout",
     "output_type": "stream",
     "text": [
      "Epoch [54/100], Loss: 0.4016936123371124\n"
     ]
    },
    {
     "name": "stderr",
     "output_type": "stream",
     "text": [
      " 55%|█████▌    | 55/100 [10:09:29<2:17:36, 183.47s/it]"
     ]
    },
    {
     "name": "stdout",
     "output_type": "stream",
     "text": [
      "Epoch [55/100], Loss: 0.45063766837120056\n"
     ]
    },
    {
     "name": "stderr",
     "output_type": "stream",
     "text": [
      " 56%|█████▌    | 56/100 [10:12:36<2:15:26, 184.69s/it]"
     ]
    },
    {
     "name": "stdout",
     "output_type": "stream",
     "text": [
      "Epoch [56/100], Loss: 0.34996163845062256\n"
     ]
    },
    {
     "name": "stderr",
     "output_type": "stream",
     "text": [
      " 57%|█████▋    | 57/100 [10:15:47<2:13:36, 186.44s/it]"
     ]
    },
    {
     "name": "stdout",
     "output_type": "stream",
     "text": [
      "Epoch [57/100], Loss: 0.5152828693389893\n"
     ]
    },
    {
     "name": "stderr",
     "output_type": "stream",
     "text": [
      " 58%|█████▊    | 58/100 [10:18:58<2:11:32, 187.92s/it]"
     ]
    },
    {
     "name": "stdout",
     "output_type": "stream",
     "text": [
      "Epoch [58/100], Loss: 0.49319884181022644\n"
     ]
    },
    {
     "name": "stderr",
     "output_type": "stream",
     "text": [
      " 59%|█████▉    | 59/100 [10:22:09<2:08:57, 188.71s/it]"
     ]
    },
    {
     "name": "stdout",
     "output_type": "stream",
     "text": [
      "Epoch [59/100], Loss: 0.30156996846199036\n"
     ]
    },
    {
     "name": "stderr",
     "output_type": "stream",
     "text": [
      " 60%|██████    | 60/100 [10:25:17<2:05:44, 188.61s/it]"
     ]
    },
    {
     "name": "stdout",
     "output_type": "stream",
     "text": [
      "Epoch [60/100], Loss: 0.3034829795360565\n"
     ]
    },
    {
     "name": "stderr",
     "output_type": "stream",
     "text": [
      " 61%|██████    | 61/100 [10:28:49<2:07:04, 195.49s/it]"
     ]
    },
    {
     "name": "stdout",
     "output_type": "stream",
     "text": [
      "Epoch [61/100], Loss: 0.2657056152820587\n"
     ]
    },
    {
     "name": "stderr",
     "output_type": "stream",
     "text": [
      " 62%|██████▏   | 62/100 [10:32:09<2:04:42, 196.90s/it]"
     ]
    },
    {
     "name": "stdout",
     "output_type": "stream",
     "text": [
      "Epoch [62/100], Loss: 0.24282771348953247\n"
     ]
    },
    {
     "name": "stderr",
     "output_type": "stream",
     "text": [
      " 63%|██████▎   | 63/100 [10:35:13<1:59:08, 193.19s/it]"
     ]
    },
    {
     "name": "stdout",
     "output_type": "stream",
     "text": [
      "Epoch [63/100], Loss: 0.43390244245529175\n"
     ]
    },
    {
     "name": "stderr",
     "output_type": "stream",
     "text": [
      " 64%|██████▍   | 64/100 [10:38:38<1:58:03, 196.75s/it]"
     ]
    },
    {
     "name": "stdout",
     "output_type": "stream",
     "text": [
      "Epoch [64/100], Loss: 0.30993548035621643\n"
     ]
    },
    {
     "name": "stderr",
     "output_type": "stream",
     "text": [
      " 65%|██████▌   | 65/100 [10:42:09<1:57:10, 200.86s/it]"
     ]
    },
    {
     "name": "stdout",
     "output_type": "stream",
     "text": [
      "Epoch [65/100], Loss: 0.5780408382415771\n"
     ]
    },
    {
     "name": "stderr",
     "output_type": "stream",
     "text": [
      " 66%|██████▌   | 66/100 [10:46:22<2:02:43, 216.57s/it]"
     ]
    },
    {
     "name": "stdout",
     "output_type": "stream",
     "text": [
      "Epoch [66/100], Loss: 0.40359413623809814\n"
     ]
    },
    {
     "name": "stderr",
     "output_type": "stream",
     "text": [
      " 67%|██████▋   | 67/100 [10:50:41<2:06:10, 229.41s/it]"
     ]
    },
    {
     "name": "stdout",
     "output_type": "stream",
     "text": [
      "Epoch [67/100], Loss: 0.2313990443944931\n"
     ]
    },
    {
     "name": "stderr",
     "output_type": "stream",
     "text": [
      " 68%|██████▊   | 68/100 [10:54:26<2:01:39, 228.12s/it]"
     ]
    },
    {
     "name": "stdout",
     "output_type": "stream",
     "text": [
      "Epoch [68/100], Loss: 0.2644810080528259\n"
     ]
    },
    {
     "name": "stderr",
     "output_type": "stream",
     "text": [
      " 69%|██████▉   | 69/100 [10:59:09<2:06:17, 244.42s/it]"
     ]
    },
    {
     "name": "stdout",
     "output_type": "stream",
     "text": [
      "Epoch [69/100], Loss: 0.4924761652946472\n"
     ]
    },
    {
     "name": "stderr",
     "output_type": "stream",
     "text": [
      " 70%|███████   | 70/100 [11:03:21<2:03:18, 246.62s/it]"
     ]
    },
    {
     "name": "stdout",
     "output_type": "stream",
     "text": [
      "Epoch [70/100], Loss: 0.26304158568382263\n"
     ]
    },
    {
     "name": "stderr",
     "output_type": "stream",
     "text": [
      " 71%|███████   | 71/100 [11:06:42<1:52:35, 232.96s/it]"
     ]
    },
    {
     "name": "stdout",
     "output_type": "stream",
     "text": [
      "Epoch [71/100], Loss: 0.24427279829978943\n"
     ]
    },
    {
     "name": "stderr",
     "output_type": "stream",
     "text": [
      " 72%|███████▏  | 72/100 [11:09:37<1:40:37, 215.62s/it]"
     ]
    },
    {
     "name": "stdout",
     "output_type": "stream",
     "text": [
      "Epoch [72/100], Loss: 0.2439180612564087\n"
     ]
    },
    {
     "name": "stderr",
     "output_type": "stream",
     "text": [
      " 73%|███████▎  | 73/100 [11:12:28<1:31:02, 202.32s/it]"
     ]
    },
    {
     "name": "stdout",
     "output_type": "stream",
     "text": [
      "Epoch [73/100], Loss: 0.3289411664009094\n"
     ]
    },
    {
     "name": "stderr",
     "output_type": "stream",
     "text": [
      " 74%|███████▍  | 74/100 [11:16:00<1:28:55, 205.22s/it]"
     ]
    },
    {
     "name": "stdout",
     "output_type": "stream",
     "text": [
      "Epoch [74/100], Loss: 0.34256336092948914\n"
     ]
    },
    {
     "name": "stderr",
     "output_type": "stream",
     "text": [
      " 75%|███████▌  | 75/100 [11:19:43<1:27:45, 210.63s/it]"
     ]
    },
    {
     "name": "stdout",
     "output_type": "stream",
     "text": [
      "Epoch [75/100], Loss: 0.33658120036125183\n"
     ]
    },
    {
     "name": "stderr",
     "output_type": "stream",
     "text": [
      " 76%|███████▌  | 76/100 [11:23:32<1:26:27, 216.14s/it]"
     ]
    },
    {
     "name": "stdout",
     "output_type": "stream",
     "text": [
      "Epoch [76/100], Loss: 0.1306178867816925\n"
     ]
    },
    {
     "name": "stderr",
     "output_type": "stream",
     "text": [
      " 77%|███████▋  | 77/100 [11:27:25<1:24:45, 221.13s/it]"
     ]
    },
    {
     "name": "stdout",
     "output_type": "stream",
     "text": [
      "Epoch [77/100], Loss: 0.41746261715888977\n"
     ]
    },
    {
     "name": "stderr",
     "output_type": "stream",
     "text": [
      " 78%|███████▊  | 78/100 [11:30:36<1:17:43, 211.99s/it]"
     ]
    },
    {
     "name": "stdout",
     "output_type": "stream",
     "text": [
      "Epoch [78/100], Loss: 0.5801761150360107\n"
     ]
    },
    {
     "name": "stderr",
     "output_type": "stream",
     "text": [
      " 79%|███████▉  | 79/100 [11:33:47<1:12:02, 205.85s/it]"
     ]
    },
    {
     "name": "stdout",
     "output_type": "stream",
     "text": [
      "Epoch [79/100], Loss: 0.3336927890777588\n"
     ]
    },
    {
     "name": "stderr",
     "output_type": "stream",
     "text": [
      " 80%|████████  | 80/100 [11:36:53<1:06:32, 199.64s/it]"
     ]
    },
    {
     "name": "stdout",
     "output_type": "stream",
     "text": [
      "Epoch [80/100], Loss: 0.1903962343931198\n"
     ]
    },
    {
     "name": "stderr",
     "output_type": "stream",
     "text": [
      " 81%|████████  | 81/100 [11:40:26<1:04:29, 203.65s/it]"
     ]
    },
    {
     "name": "stdout",
     "output_type": "stream",
     "text": [
      "Epoch [81/100], Loss: 0.24728891253471375\n"
     ]
    },
    {
     "name": "stderr",
     "output_type": "stream",
     "text": [
      " 82%|████████▏ | 82/100 [11:44:38<1:05:28, 218.24s/it]"
     ]
    },
    {
     "name": "stdout",
     "output_type": "stream",
     "text": [
      "Epoch [82/100], Loss: 0.2711876928806305\n"
     ]
    },
    {
     "name": "stderr",
     "output_type": "stream",
     "text": [
      " 83%|████████▎ | 83/100 [11:48:48<1:04:33, 227.83s/it]"
     ]
    },
    {
     "name": "stdout",
     "output_type": "stream",
     "text": [
      "Epoch [83/100], Loss: 0.3603898286819458\n"
     ]
    },
    {
     "name": "stderr",
     "output_type": "stream",
     "text": [
      " 84%|████████▍ | 84/100 [11:52:35<1:00:41, 227.62s/it]"
     ]
    },
    {
     "name": "stdout",
     "output_type": "stream",
     "text": [
      "Epoch [84/100], Loss: 0.326003760099411\n"
     ]
    },
    {
     "name": "stderr",
     "output_type": "stream",
     "text": [
      " 85%|████████▌ | 85/100 [11:56:29<57:21, 229.45s/it]  "
     ]
    },
    {
     "name": "stdout",
     "output_type": "stream",
     "text": [
      "Epoch [85/100], Loss: 0.4355655908584595\n"
     ]
    },
    {
     "name": "stderr",
     "output_type": "stream",
     "text": [
      " 86%|████████▌ | 86/100 [12:00:36<54:46, 234.72s/it]"
     ]
    },
    {
     "name": "stdout",
     "output_type": "stream",
     "text": [
      "Epoch [86/100], Loss: 0.41586416959762573\n"
     ]
    },
    {
     "name": "stderr",
     "output_type": "stream",
     "text": [
      " 87%|████████▋ | 87/100 [12:04:48<52:00, 240.07s/it]"
     ]
    },
    {
     "name": "stdout",
     "output_type": "stream",
     "text": [
      "Epoch [87/100], Loss: 0.36600714921951294\n"
     ]
    },
    {
     "name": "stderr",
     "output_type": "stream",
     "text": [
      " 88%|████████▊ | 88/100 [12:08:36<47:14, 236.20s/it]"
     ]
    },
    {
     "name": "stdout",
     "output_type": "stream",
     "text": [
      "Epoch [88/100], Loss: 0.46036651730537415\n"
     ]
    },
    {
     "name": "stderr",
     "output_type": "stream",
     "text": [
      " 89%|████████▉ | 89/100 [12:12:22<42:47, 233.39s/it]"
     ]
    },
    {
     "name": "stdout",
     "output_type": "stream",
     "text": [
      "Epoch [89/100], Loss: 0.3791602849960327\n"
     ]
    },
    {
     "name": "stderr",
     "output_type": "stream",
     "text": [
      " 90%|█████████ | 90/100 [12:15:58<37:59, 227.92s/it]"
     ]
    },
    {
     "name": "stdout",
     "output_type": "stream",
     "text": [
      "Epoch [90/100], Loss: 0.357228547334671\n"
     ]
    },
    {
     "name": "stderr",
     "output_type": "stream",
     "text": [
      " 91%|█████████ | 91/100 [12:19:28<33:24, 222.70s/it]"
     ]
    },
    {
     "name": "stdout",
     "output_type": "stream",
     "text": [
      "Epoch [91/100], Loss: 0.2872767746448517\n"
     ]
    },
    {
     "name": "stderr",
     "output_type": "stream",
     "text": [
      " 92%|█████████▏| 92/100 [12:22:42<28:31, 213.91s/it]"
     ]
    },
    {
     "name": "stdout",
     "output_type": "stream",
     "text": [
      "Epoch [92/100], Loss: 0.304133802652359\n"
     ]
    },
    {
     "name": "stderr",
     "output_type": "stream",
     "text": [
      " 93%|█████████▎| 93/100 [12:26:57<26:25, 226.47s/it]"
     ]
    },
    {
     "name": "stdout",
     "output_type": "stream",
     "text": [
      "Epoch [93/100], Loss: 0.19176243245601654\n"
     ]
    },
    {
     "name": "stderr",
     "output_type": "stream",
     "text": [
      " 94%|█████████▍| 94/100 [12:30:32<22:17, 222.93s/it]"
     ]
    },
    {
     "name": "stdout",
     "output_type": "stream",
     "text": [
      "Epoch [94/100], Loss: 0.15785619616508484\n"
     ]
    },
    {
     "name": "stderr",
     "output_type": "stream",
     "text": [
      " 95%|█████████▌| 95/100 [12:34:01<18:13, 218.75s/it]"
     ]
    },
    {
     "name": "stdout",
     "output_type": "stream",
     "text": [
      "Epoch [95/100], Loss: 0.6162868738174438\n"
     ]
    },
    {
     "name": "stderr",
     "output_type": "stream",
     "text": [
      " 96%|█████████▌| 96/100 [12:37:26<14:18, 214.66s/it]"
     ]
    },
    {
     "name": "stdout",
     "output_type": "stream",
     "text": [
      "Epoch [96/100], Loss: 0.4056888520717621\n"
     ]
    },
    {
     "name": "stderr",
     "output_type": "stream",
     "text": [
      " 97%|█████████▋| 97/100 [12:41:00<10:43, 214.45s/it]"
     ]
    },
    {
     "name": "stdout",
     "output_type": "stream",
     "text": [
      "Epoch [97/100], Loss: 0.5541338920593262\n"
     ]
    },
    {
     "name": "stderr",
     "output_type": "stream",
     "text": [
      " 98%|█████████▊| 98/100 [12:44:28<07:04, 212.50s/it]"
     ]
    },
    {
     "name": "stdout",
     "output_type": "stream",
     "text": [
      "Epoch [98/100], Loss: 0.2233925461769104\n"
     ]
    },
    {
     "name": "stderr",
     "output_type": "stream",
     "text": [
      " 99%|█████████▉| 99/100 [12:47:59<03:32, 212.05s/it]"
     ]
    },
    {
     "name": "stdout",
     "output_type": "stream",
     "text": [
      "Epoch [99/100], Loss: 0.25934427976608276\n"
     ]
    },
    {
     "name": "stderr",
     "output_type": "stream",
     "text": [
      "100%|██████████| 100/100 [12:51:27<00:00, 462.88s/it]"
     ]
    },
    {
     "name": "stdout",
     "output_type": "stream",
     "text": [
      "Epoch [100/100], Loss: 0.3076271116733551\n"
     ]
    },
    {
     "name": "stderr",
     "output_type": "stream",
     "text": [
      "\n"
     ]
    }
   ],
   "source": [
    "\n",
    "\n",
    "class TripletDataset(Dataset):\n",
    "    \"\"\"Dataset pour générer des triplets.\"\"\"\n",
    "    def __init__(self, embeddings, labels):\n",
    "        self.embeddings = embeddings\n",
    "        self.labels = labels\n",
    "        self.index = 0\n",
    "    \n",
    "    def __getitem__(self, index):\n",
    "        # Sélectionnez l'ancre, le positif et le négatif ici\n",
    "        # Cela dépend de votre méthode de sélection des triplets\n",
    "        anchor = self.embeddings[index]\n",
    "        label = self.labels[index]\n",
    "    \n",
    "        positive= self.choose_positive(label)\n",
    "        negative = self.choose_negative(label)\n",
    "        \n",
    "        \n",
    "        return anchor, positive, negative\n",
    "    \n",
    "    def __len__(self):\n",
    "        return len(self.embeddings)\n",
    "    \n",
    "    def choose_positive(self, label):\n",
    "        # Implémentez la logique pour choisir un positif\n",
    "        indices = torch.where(self.labels==label)\n",
    "        #print('indice', indices)\n",
    "        tensor_same_class = self.embeddings[indices]\n",
    "        #print(tensor_same_class.shape)  \n",
    "        chosen = torch.randint(0, tensor_same_class.shape[0], size=(1,)).item()\n",
    "\n",
    "        return tensor_same_class[chosen] \n",
    "    \n",
    "    def choose_negative(self, label):\n",
    "        # Implémentez la logique pour choisir un négatif\n",
    "        indices = torch.where(self.labels!=label)\n",
    "        #print('indice', indices)\n",
    "        tensor_diff_class = self.embeddings[indices]\n",
    "        #print(tensor_diff_class.shape)   \n",
    "        chosen = torch.randint(0, tensor_diff_class.shape[0], size=(1,)).item()\n",
    "\n",
    "        return tensor_diff_class[chosen]\n",
    "\n",
    "# Initialisation du modèle, du DataLoader, etc.\n",
    "embedding_dim = combined_tensor.shape[1]\n",
    "output_dim = 32\n",
    "num_epochs = 100\n",
    "device = ('cpu')\n",
    "#model = EmbeddingAdjustmentModel(embedding_dim, output_dim)\n",
    "optimizer = Adam(model.parameters(), lr=1e-4)\n",
    "criterion = nn.TripletMarginLoss(margin=1.0)\n",
    "target =  torch.tensor(y_train)\n",
    "dataset = TripletDataset(combined_tensor, target)\n",
    "dataloader = DataLoader(dataset, batch_size=32, shuffle=True)\n",
    "\n",
    "# Boucle d'entraînement\n",
    "for epoch in tqdm(range(num_epochs)):\n",
    "    for anchor, positive, negative in dataloader:\n",
    "        optimizer.zero_grad()\n",
    "        anchor, positive, negative = anchor.to(device), positive.to(device), negative.to(device)\n",
    "        anchor_embed = model(anchor)\n",
    "        positive_embed = model(positive)\n",
    "        negative_embed = model(negative)\n",
    "        \n",
    "        loss = criterion(anchor_embed, positive_embed, negative_embed)\n",
    "        loss.backward()\n",
    "        optimizer.step()\n",
    "    \n",
    "    print(f\"Epoch [{epoch+1}/{num_epochs}], Loss: {loss.item()}\")\n"
   ]
  },
  {
   "cell_type": "code",
   "execution_count": 79,
   "metadata": {},
   "outputs": [],
   "source": [
    "# Save model \n",
    "\n",
    "torch.save(model.state_dict(), \"/Users/louisedurand-janin/Documents/GitHub/HrFlow_Data_Challenge/model_contrast_32.pt\")"
   ]
  },
  {
   "cell_type": "code",
   "execution_count": 75,
   "metadata": {},
   "outputs": [],
   "source": [
    "model.eval()\n",
    "\n",
    "new_embeddings_train = model(combined_tensor)"
   ]
  },
  {
   "cell_type": "code",
   "execution_count": 57,
   "metadata": {},
   "outputs": [
    {
     "data": {
      "text/plain": [
       "tensor([[ 0.0133, -0.3762, -0.6138,  ..., -0.4219, -0.3206, -0.4043],\n",
       "        [-0.2827, -0.0129,  0.2054,  ..., -0.1548,  0.0759, -0.6390],\n",
       "        [ 0.4000, -0.2985, -0.2110,  ..., -0.5598,  0.1031, -0.1492],\n",
       "        ...,\n",
       "        [-0.2505, -0.2068,  0.5609,  ..., -0.1784, -0.3287, -0.4991],\n",
       "        [-0.2505, -0.2068,  0.5609,  ..., -0.8119,  0.0043,  0.2834],\n",
       "        [-0.6191, -0.0630, -0.2045,  ..., -0.3501, -0.6396, -0.5535]])"
      ]
     },
     "execution_count": 57,
     "metadata": {},
     "output_type": "execute_result"
    }
   ],
   "source": [
    "combined_tensor"
   ]
  },
  {
   "cell_type": "code",
   "execution_count": 76,
   "metadata": {},
   "outputs": [
    {
     "data": {
      "text/plain": [
       "(29273, 32)"
      ]
     },
     "execution_count": 76,
     "metadata": {},
     "output_type": "execute_result"
    }
   ],
   "source": [
    "new_array_train = np.array(new_embeddings_train.detach().numpy())\n",
    "new_array_train.shape"
   ]
  },
  {
   "cell_type": "code",
   "execution_count": 77,
   "metadata": {},
   "outputs": [
    {
     "name": "stdout",
     "output_type": "stream",
     "text": [
      "[0 1 2 3]\n",
      "(9023, 32)\n"
     ]
    },
    {
     "name": "stdout",
     "output_type": "stream",
     "text": [
      "(9023, 9023)\n",
      "Average cosine similarity within class 0: 0.8719801065719593\n",
      "(17793, 32)\n",
      "(17793, 17793)\n",
      "Average cosine similarity within class 1: 0.8823739645256011\n",
      "(1101, 32)\n",
      "(1101, 1101)\n",
      "Average cosine similarity within class 2: 0.5652546716482155\n",
      "(1356, 32)\n",
      "(1356, 1356)\n",
      "Average cosine similarity within class 3: 0.5548956930224196\n"
     ]
    }
   ],
   "source": [
    "unique_classes = np.unique(y_train)\n",
    "print(unique_classes)\n",
    "for class_label in unique_classes:\n",
    "    class_indices = np.where(y_train == class_label)[0]\n",
    "    class_embeddings = new_array_train[class_indices]\n",
    "    print(class_embeddings.shape)\n",
    "    # Compute cosine similarities for all pairs within the class\n",
    "    sim_matrix = cosine_similarity(class_embeddings)\n",
    "    print(sim_matrix.shape)\n",
    "    # Since the similarity matrix includes 1.0 for self-comparisons, we remove them\n",
    "    sim_matrix_no_self = sim_matrix - np.eye(sim_matrix.shape[0])\n",
    "    \n",
    "    # Optionally, calculate the average similarity, excluding self-comparisons\n",
    "    avg_similarity = np.sum(sim_matrix_no_self) / (sim_matrix_no_self.size - sim_matrix.shape[0])\n",
    "    \n",
    "    print(f\"Average cosine similarity within class {class_label}: {avg_similarity}\")"
   ]
  },
  {
   "cell_type": "code",
   "execution_count": 78,
   "metadata": {},
   "outputs": [
    {
     "name": "stdout",
     "output_type": "stream",
     "text": [
      "Average cosine similarity between class 0 and class 1: 0.2871655821800232\n",
      "Average cosine similarity between class 0 and class 2: 0.4333949089050293\n",
      "Average cosine similarity between class 0 and class 3: 0.6077513694763184\n",
      "Average cosine similarity between class 1 and class 2: 0.6562576293945312\n",
      "Average cosine similarity between class 1 and class 3: 0.48463737964630127\n",
      "Average cosine similarity between class 2 and class 3: 0.49804461002349854\n"
     ]
    }
   ],
   "source": [
    "# Iterate over pairs of classes\n",
    "for i in range(4):\n",
    "    for j in range(i+1, 4):\n",
    "        # Indices and embeddings for class i\n",
    "        class_i_indices = np.where(y_train == unique_classes[i])[0]\n",
    "        class_i_embeddings = new_array_train[class_i_indices]\n",
    "        \n",
    "        # Indices and embeddings for class j\n",
    "        class_j_indices = np.where(y_train == unique_classes[j])[0]\n",
    "        class_j_embeddings = new_array_train[class_j_indices]\n",
    "        \n",
    "        # Compute cosine similarities between all pairs (i, j)\n",
    "        sim_matrix = cosine_similarity(class_i_embeddings, class_j_embeddings)\n",
    "        \n",
    "        # Calculate the average similarity across classes\n",
    "        avg_similarity = np.mean(sim_matrix)\n",
    "        \n",
    "        print(f\"Average cosine similarity between class {unique_classes[i]} and class {unique_classes[j]}: {avg_similarity}\")"
   ]
  }
 ],
 "metadata": {
  "kernelspec": {
   "display_name": "rlenv",
   "language": "python",
   "name": "python3"
  },
  "language_info": {
   "codemirror_mode": {
    "name": "ipython",
    "version": 3
   },
   "file_extension": ".py",
   "mimetype": "text/x-python",
   "name": "python",
   "nbconvert_exporter": "python",
   "pygments_lexer": "ipython3",
   "version": "3.10.13"
  }
 },
 "nbformat": 4,
 "nbformat_minor": 2
}
