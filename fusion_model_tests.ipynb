{
 "cells": [
  {
   "cell_type": "code",
   "execution_count": 1,
   "metadata": {},
   "outputs": [],
   "source": [
    "from contextual_bandit import ContextualBandit\n",
    "import pandas as pd\n",
    "import numpy as np\n",
    "import torch\n",
    "import torch.nn as nn\n",
    "from sklearn.metrics import f1_score\n",
    "from tqdm import tqdm\n",
    "from sklearn.decomposition import PCA\n",
    "import matplotlib.pyplot as plt\n",
    "from Fusion_Model import FusionModel, LSTM\n",
    "import json\n",
    "import matplotlib.pyplot as plt\n",
    "from CenterLoss import CenterLoss\n",
    "from torch.utils.data import DataLoader, TensorDataset"
   ]
  },
  {
   "cell_type": "code",
   "execution_count": 2,
   "metadata": {},
   "outputs": [],
   "source": [
    "def get_dataloaders(pathX, pathy, batch_size = None):\n",
    "    X_df = pd.read_csv(pathX, index_col=0)\n",
    "    X_df['employee embedding'] = X_df['employee embedding'].apply(lambda x: np.array(json.loads(x), dtype=np.float64))\n",
    "    X_df['company embedding'] = X_df['company embedding'].apply(lambda x: np.array(json.loads(x), dtype=np.float64))\n",
    "    employee = torch.tensor(np.vstack(X_df['employee embedding'].values), dtype=torch.float64)\n",
    "    company = torch.tensor(np.vstack(X_df['company embedding'].values), dtype=torch.float64)\n",
    "    LSTM_X = torch.zeros(employee.shape[0], 2, employee.shape[1])\n",
    "    LSTM_X[:, 0, :] = employee\n",
    "    LSTM_X[:, 1, :] = company\n",
    "    y = torch.load(pathy)\n",
    "    dataset = TensorDataset(LSTM_X,y.long())\n",
    "    if batch_size is None:\n",
    "        dataloader = DataLoader(dataset, batch_size=LSTM_X.shape[0], shuffle=True)\n",
    "    else:\n",
    "        dataloader = DataLoader(dataset, batch_size=batch_size, shuffle=True)\n",
    "    return dataloader"
   ]
  },
  {
   "cell_type": "code",
   "execution_count": 3,
   "metadata": {},
   "outputs": [],
   "source": [
    "test_dataloader = get_dataloaders('data/X_test.csv', 'data/y_test.pt')"
   ]
  },
  {
   "cell_type": "code",
   "execution_count": 4,
   "metadata": {},
   "outputs": [],
   "source": [
    "X_train_df, y_train = pd.read_csv('data/X_train.csv', index_col = 0), pd.read_csv('data/y_train.csv', index_col=0)\n",
    "X_train_df['employee embedding'] = X_train_df['employee embedding'].apply(lambda x: np.array(json.loads(x), dtype=np.float64))\n",
    "X_train_df['company embedding'] = X_train_df['company embedding'].apply(lambda x: np.array(json.loads(x), dtype=np.float64))\n",
    "X_train_df.iloc[:, 1:].values.shape\n",
    "employee_embedding_tensor = torch.tensor(np.vstack(X_train_df['employee embedding'].values), dtype=torch.float64)\n",
    "company_embedding_tensor = torch.tensor(np.vstack(X_train_df['company embedding'].values), dtype=torch.float64)\n",
    "LSTM_X = torch.zeros(employee_embedding_tensor.shape[0], 2, 32)\n",
    "LSTM_X[:, 0, :] = employee_embedding_tensor\n",
    "LSTM_X[:, 1, :] = company_embedding_tensor\n",
    "y_train = torch.load('data/y_train.pt')"
   ]
  },
  {
   "cell_type": "code",
   "execution_count": 5,
   "metadata": {},
   "outputs": [],
   "source": [
    "cutoff = int(LSTM_X.shape[0]*0.7)\n",
    "LSTM_X_train, y_train1 = LSTM_X[:cutoff, :, :], y_train[:cutoff]\n",
    "LSTM_X_val, y_val = LSTM_X[cutoff:, :, :], y_train[cutoff:]\n",
    "y_train = y_train1"
   ]
  },
  {
   "cell_type": "code",
   "execution_count": 205,
   "metadata": {},
   "outputs": [
    {
     "data": {
      "text/plain": [
       "False    0.691764\n",
       "True     0.308236\n",
       "Name: count, dtype: float64"
      ]
     },
     "execution_count": 205,
     "metadata": {},
     "output_type": "execute_result"
    }
   ],
   "source": [
    "data1 = LSTM_X\n",
    "y1 = y_train == 0\n",
    "pd.Series(y1).value_counts() / len(y1)"
   ]
  },
  {
   "cell_type": "code",
   "execution_count": null,
   "metadata": {},
   "outputs": [],
   "source": [
    "model1 = LSTM()"
   ]
  },
  {
   "cell_type": "code",
   "execution_count": 187,
   "metadata": {},
   "outputs": [
    {
     "data": {
      "text/plain": [
       "1.0    12840\n",
       "0.0     5945\n",
       "2.0      878\n",
       "3.0      828\n",
       "Name: count, dtype: int64"
      ]
     },
     "execution_count": 187,
     "metadata": {},
     "output_type": "execute_result"
    }
   ],
   "source": [
    "pd.Series(y_train).value_counts()"
   ]
  },
  {
   "cell_type": "code",
   "execution_count": 172,
   "metadata": {},
   "outputs": [],
   "source": [
    "def train(epochs, lr, train_data, val_data, model, criterion):\n",
    "    optimizer = torch.optim.Adam(model.parameters(), lr = lr)\n",
    "    losses = []\n",
    "    # f1_scores = []\n",
    "    train_val, val_y = next(iter(val_data)) # assumes only 1 batch in training data\n",
    "    # prev_F1 = 0\n",
    "    model.train()\n",
    "    for epoch in tqdm(range(epochs)):\n",
    "        running_loss = []\n",
    "        # running_f1 = []\n",
    "        for batch in train_data:\n",
    "            X,y = batch\n",
    "            emb = model(X).squeeze(1)\n",
    "            emb = torch.clamp(emb, 0, 4)\n",
    "            # preds = torch.argmax(emb, dim = 1)\n",
    "            # preds = preds.float()\n",
    "            # f1_score_epoch = f1_score(y, preds, average='macro')\n",
    "            optimizer.zero_grad()\n",
    "            loss = criterion(emb, y.float())\n",
    "            loss.backward()\n",
    "            optimizer.step()\n",
    "            running_loss.append(loss.item())\n",
    "            # running_f1.append(f1_score_epoch)\n",
    "        losses.append(np.mean(running_loss))\n",
    "        # f1_scores.append(np.mean(running_f1))\n",
    "        if epoch % 10 == 0:\n",
    "            val_probs = model(train_val)\n",
    "            # val_preds = torch.argmax(val_probs, dim = 1)\n",
    "            # # val_f1 = f1_score(val_y, val_preds, average = 'macro')\n",
    "            # if val_f1 < prev_F1:\n",
    "            #     print('early stopping')\n",
    "            #     model.eval()\n",
    "            #     return losses, f1_scores\n",
    "            # else:\n",
    "            # print('Val F1 score: ', val_f1)\n",
    "            print('Train loss: ', losses[-1])\n",
    "            # print('F1 score: ', f1_scores[-1])\n",
    "            # prev_F1 = val_f1\n",
    "    model.eval()\n",
    "    return losses"
   ]
  },
  {
   "cell_type": "code",
   "execution_count": 113,
   "metadata": {},
   "outputs": [],
   "source": [
    "weights = 1/np.array([0.3, 0.6, 0.05, 0.05])\n",
    "weights /= sum(np.sqrt(weights**2))"
   ]
  },
  {
   "cell_type": "code",
   "execution_count": 115,
   "metadata": {},
   "outputs": [
    {
     "data": {
      "text/plain": [
       "1.0"
      ]
     },
     "execution_count": 115,
     "metadata": {},
     "output_type": "execute_result"
    }
   ],
   "source": [
    "sum(weights)"
   ]
  },
  {
   "cell_type": "code",
   "execution_count": 120,
   "metadata": {},
   "outputs": [
    {
     "data": {
      "text/plain": [
       "tensor([0.0741, 0.0370, 0.4444, 0.4444])"
      ]
     },
     "execution_count": 120,
     "metadata": {},
     "output_type": "execute_result"
    }
   ],
   "source": [
    "weights"
   ]
  },
  {
   "cell_type": "code",
   "execution_count": 195,
   "metadata": {},
   "outputs": [
    {
     "name": "stderr",
     "output_type": "stream",
     "text": [
      "  1%|          | 1/100 [00:02<04:43,  2.87s/it]"
     ]
    },
    {
     "name": "stdout",
     "output_type": "stream",
     "text": [
      "Train loss:  0.4948031265543114\n"
     ]
    },
    {
     "name": "stderr",
     "output_type": "stream",
     "text": [
      " 11%|█         | 11/100 [00:24<03:11,  2.15s/it]"
     ]
    },
    {
     "name": "stdout",
     "output_type": "stream",
     "text": [
      "Train loss:  0.4028759668147342\n"
     ]
    },
    {
     "name": "stderr",
     "output_type": "stream",
     "text": [
      " 21%|██        | 21/100 [00:47<03:01,  2.30s/it]"
     ]
    },
    {
     "name": "stdout",
     "output_type": "stream",
     "text": [
      "Train loss:  0.3559450249864448\n"
     ]
    },
    {
     "name": "stderr",
     "output_type": "stream",
     "text": [
      " 31%|███       | 31/100 [01:09<02:33,  2.23s/it]"
     ]
    },
    {
     "name": "stdout",
     "output_type": "stream",
     "text": [
      "Train loss:  0.3117160437084873\n"
     ]
    },
    {
     "name": "stderr",
     "output_type": "stream",
     "text": [
      " 41%|████      | 41/100 [01:34<02:22,  2.42s/it]"
     ]
    },
    {
     "name": "stdout",
     "output_type": "stream",
     "text": [
      "Train loss:  0.2686510124006627\n"
     ]
    },
    {
     "name": "stderr",
     "output_type": "stream",
     "text": [
      " 51%|█████     | 51/100 [01:57<01:55,  2.35s/it]"
     ]
    },
    {
     "name": "stdout",
     "output_type": "stream",
     "text": [
      "Train loss:  0.2161019740175016\n"
     ]
    },
    {
     "name": "stderr",
     "output_type": "stream",
     "text": [
      " 61%|██████    | 61/100 [02:20<01:29,  2.31s/it]"
     ]
    },
    {
     "name": "stdout",
     "output_type": "stream",
     "text": [
      "Train loss:  0.16853378680737122\n"
     ]
    },
    {
     "name": "stderr",
     "output_type": "stream",
     "text": [
      " 71%|███████   | 71/100 [02:41<01:01,  2.13s/it]"
     ]
    },
    {
     "name": "stdout",
     "output_type": "stream",
     "text": [
      "Train loss:  0.12639628461799265\n"
     ]
    },
    {
     "name": "stderr",
     "output_type": "stream",
     "text": [
      " 81%|████████  | 81/100 [03:04<00:40,  2.12s/it]"
     ]
    },
    {
     "name": "stdout",
     "output_type": "stream",
     "text": [
      "Train loss:  0.08827390591180102\n"
     ]
    },
    {
     "name": "stderr",
     "output_type": "stream",
     "text": [
      " 82%|████████▏ | 82/100 [03:08<00:41,  2.30s/it]\n"
     ]
    },
    {
     "ename": "KeyboardInterrupt",
     "evalue": "",
     "output_type": "error",
     "traceback": [
      "\u001b[0;31m---------------------------------------------------------------------------\u001b[0m",
      "\u001b[0;31mKeyboardInterrupt\u001b[0m                         Traceback (most recent call last)",
      "Cell \u001b[0;32mIn[195], line 7\u001b[0m\n\u001b[1;32m      5\u001b[0m \u001b[39m# criterion = nn.CrossEntropyLoss(weights)\u001b[39;00m\n\u001b[1;32m      6\u001b[0m criterion \u001b[39m=\u001b[39m nn\u001b[39m.\u001b[39mMSELoss()\n\u001b[0;32m----> 7\u001b[0m losses \u001b[39m=\u001b[39m train(\u001b[39m100\u001b[39m, \u001b[39m1e-3\u001b[39m, train_dataloader, val_dataloader, lstm_only, criterion)\n",
      "Cell \u001b[0;32mIn[172], line 20\u001b[0m, in \u001b[0;36mtrain\u001b[0;34m(epochs, lr, train_data, val_data, model, criterion)\u001b[0m\n\u001b[1;32m     18\u001b[0m optimizer\u001b[39m.\u001b[39mzero_grad()\n\u001b[1;32m     19\u001b[0m loss \u001b[39m=\u001b[39m criterion(emb, y\u001b[39m.\u001b[39mfloat())\n\u001b[0;32m---> 20\u001b[0m loss\u001b[39m.\u001b[39mbackward()\n\u001b[1;32m     21\u001b[0m optimizer\u001b[39m.\u001b[39mstep()\n\u001b[1;32m     22\u001b[0m running_loss\u001b[39m.\u001b[39mappend(loss\u001b[39m.\u001b[39mitem())\n",
      "File \u001b[0;32m~/anaconda3/envs/compstat/lib/python3.11/site-packages/torch/_tensor.py:488\u001b[0m, in \u001b[0;36mTensor.backward\u001b[0;34m(self, gradient, retain_graph, create_graph, inputs)\u001b[0m\n\u001b[1;32m    478\u001b[0m \u001b[39mif\u001b[39;00m has_torch_function_unary(\u001b[39mself\u001b[39m):\n\u001b[1;32m    479\u001b[0m     \u001b[39mreturn\u001b[39;00m handle_torch_function(\n\u001b[1;32m    480\u001b[0m         Tensor\u001b[39m.\u001b[39mbackward,\n\u001b[1;32m    481\u001b[0m         (\u001b[39mself\u001b[39m,),\n\u001b[0;32m   (...)\u001b[0m\n\u001b[1;32m    486\u001b[0m         inputs\u001b[39m=\u001b[39minputs,\n\u001b[1;32m    487\u001b[0m     )\n\u001b[0;32m--> 488\u001b[0m torch\u001b[39m.\u001b[39mautograd\u001b[39m.\u001b[39mbackward(\n\u001b[1;32m    489\u001b[0m     \u001b[39mself\u001b[39m, gradient, retain_graph, create_graph, inputs\u001b[39m=\u001b[39minputs\n\u001b[1;32m    490\u001b[0m )\n",
      "File \u001b[0;32m~/anaconda3/envs/compstat/lib/python3.11/site-packages/torch/autograd/__init__.py:197\u001b[0m, in \u001b[0;36mbackward\u001b[0;34m(tensors, grad_tensors, retain_graph, create_graph, grad_variables, inputs)\u001b[0m\n\u001b[1;32m    192\u001b[0m     retain_graph \u001b[39m=\u001b[39m create_graph\n\u001b[1;32m    194\u001b[0m \u001b[39m# The reason we repeat same the comment below is that\u001b[39;00m\n\u001b[1;32m    195\u001b[0m \u001b[39m# some Python versions print out the first line of a multi-line function\u001b[39;00m\n\u001b[1;32m    196\u001b[0m \u001b[39m# calls in the traceback and some print out the last line\u001b[39;00m\n\u001b[0;32m--> 197\u001b[0m Variable\u001b[39m.\u001b[39m_execution_engine\u001b[39m.\u001b[39mrun_backward(  \u001b[39m# Calls into the C++ engine to run the backward pass\u001b[39;00m\n\u001b[1;32m    198\u001b[0m     tensors, grad_tensors_, retain_graph, create_graph, inputs,\n\u001b[1;32m    199\u001b[0m     allow_unreachable\u001b[39m=\u001b[39m\u001b[39mTrue\u001b[39;00m, accumulate_grad\u001b[39m=\u001b[39m\u001b[39mTrue\u001b[39;00m)\n",
      "\u001b[0;31mKeyboardInterrupt\u001b[0m: "
     ]
    }
   ],
   "source": [
    "from Fusion_Model import LSTM\n",
    "\n",
    "lstm_only = LSTM(1, 32, 128, 3)\n",
    "weights = torch.tensor([0.01, 0.01, 0.49, 0.49]).float()\n",
    "# criterion = nn.CrossEntropyLoss(weights)\n",
    "criterion = nn.MSELoss()\n",
    "losses = train(100, 1e-3, train_dataloader, val_dataloader, lstm_only, criterion)"
   ]
  },
  {
   "cell_type": "code",
   "execution_count": null,
   "metadata": {},
   "outputs": [
    {
     "data": {
      "text/plain": [
       "[<matplotlib.lines.Line2D at 0x1a1ff0a50>]"
      ]
     },
     "execution_count": 174,
     "metadata": {},
     "output_type": "execute_result"
    },
    {
     "data": {
      "image/png": "[encoded data removed]",
      "text/plain": [
       "<Figure size 640x480 with 1 Axes>"
      ]
     },
     "metadata": {},
     "output_type": "display_data"
    }
   ],
   "source": [
    "plt.plot(losses)"
   ]
  },
  {
   "cell_type": "code",
   "execution_count": null,
   "metadata": {},
   "outputs": [],
   "source": [
    "for X,y in dataloader:\n",
    "    lstm_only()"
   ]
  },
  {
   "cell_type": "code",
   "execution_count": 143,
   "metadata": {},
   "outputs": [
    {
     "data": {
      "text/plain": [
       "0.17754621406804985"
      ]
     },
     "execution_count": 143,
     "metadata": {},
     "output_type": "execute_result"
    }
   ],
   "source": [
    "LSTM_X_test, LSTM_y_test = next(iter(test_dataloader))\n",
    "probs = lstm_only(LSTM_X_test)\n",
    "preds = torch.argmax(probs, dim=1)\n",
    "f1_score(LSTM_y_test, preds, average = 'macro')"
   ]
  },
  {
   "cell_type": "code",
   "execution_count": 130,
   "metadata": {},
   "outputs": [
    {
     "data": {
      "text/plain": [
       "array([1882, 1812, 1818, 1815])"
      ]
     },
     "execution_count": 130,
     "metadata": {},
     "output_type": "execute_result"
    }
   ],
   "source": [
    "np.sum(conf_matrix, axis = 1)"
   ]
  },
  {
   "cell_type": "code",
   "execution_count": 136,
   "metadata": {},
   "outputs": [
    {
     "data": {
      "text/plain": [
       "array([[ 436., 1312.,   79.,   55.],\n",
       "       [ 390., 1291.,   76.,   55.],\n",
       "       [ 391., 1281.,   78.,   68.],\n",
       "       [ 432., 1242.,   83.,   58.]])"
      ]
     },
     "execution_count": 136,
     "metadata": {},
     "output_type": "execute_result"
    }
   ],
   "source": [
    "conf_matrix.astype(float)"
   ]
  },
  {
   "cell_type": "code",
   "execution_count": 146,
   "metadata": {},
   "outputs": [
    {
     "data": {
      "text/plain": [
       "array([0.22316684, 0.73565121, 0.02420242, 0.02809917])"
      ]
     },
     "execution_count": 146,
     "metadata": {},
     "output_type": "execute_result"
    }
   ],
   "source": [
    "from sklearn.metrics import confusion_matrix\n",
    "conf_matrix = confusion_matrix(LSTM_y_test, preds)\n",
    "\n",
    "conf_matrix = conf_matrix.astype(float) \n",
    "conf_matrix /= np.sum(conf_matrix, axis = 1)\n",
    "conf_matrix.diagonal()"
   ]
  },
  {
   "cell_type": "code",
   "execution_count": 141,
   "metadata": {},
   "outputs": [
    {
     "data": {
      "text/plain": [
       "([<matplotlib.axis.YTick at 0x1a0dc9cd0>,\n",
       "  <matplotlib.axis.YTick at 0x1a0d91e10>,\n",
       "  <matplotlib.axis.YTick at 0x1a0dcfc50>,\n",
       "  <matplotlib.axis.YTick at 0x1a0de4550>],\n",
       " [Text(0, 0.5, '0'), Text(0, 1.5, '1'), Text(0, 2.5, '2'), Text(0, 3.5, '3')])"
      ]
     },
     "execution_count": 141,
     "metadata": {},
     "output_type": "execute_result"
    },
    {
     "data": {
      "image/png": "[encoded data removed]",
      "text/plain": [
       "<Figure size 800x600 with 1 Axes>"
      ]
     },
     "metadata": {},
     "output_type": "display_data"
    }
   ],
   "source": [
    "import seaborn as sns\n",
    "plt.figure(figsize=(8, 6))\n",
    "sns.set(font_scale=1.2)  # Adjust font scale for better readability\n",
    "\n",
    "# Create heatmap\n",
    "sns.heatmap(conf_matrix, annot=True, cmap=\"Blues\", cbar=False)\n",
    "\n",
    "# Set labels, title, and axis ticks\n",
    "plt.title('Confusion Matrix')\n",
    "plt.xlabel('Predicted Labels')\n",
    "plt.ylabel('True Labels')\n",
    "plt.xticks(ticks=np.arange(len(conf_matrix))+0.5, labels=np.arange(len(conf_matrix)))\n",
    "plt.yticks(ticks=np.arange(len(conf_matrix))+0.5, labels=np.arange(len(conf_matrix)))"
   ]
  },
  {
   "cell_type": "code",
   "execution_count": 119,
   "metadata": {},
   "outputs": [
    {
     "data": {
      "text/plain": [
       "1.0    12840\n",
       "0.0     5945\n",
       "2.0      878\n",
       "3.0      828\n",
       "Name: count, dtype: int64"
      ]
     },
     "execution_count": 119,
     "metadata": {},
     "output_type": "execute_result"
    }
   ],
   "source": [
    "pd.Series(y_train).value_counts()"
   ]
  },
  {
   "cell_type": "code",
   "execution_count": 122,
   "metadata": {},
   "outputs": [
    {
     "data": {
      "text/plain": [
       "0.01109021907435117"
      ]
     },
     "execution_count": 122,
     "metadata": {},
     "output_type": "execute_result"
    }
   ],
   "source": [
    "losses[-1]"
   ]
  },
  {
   "cell_type": "code",
   "execution_count": 121,
   "metadata": {},
   "outputs": [
    {
     "data": {
      "text/plain": [
       "[<matplotlib.lines.Line2D at 0x19f76ae10>]"
      ]
     },
     "execution_count": 121,
     "metadata": {},
     "output_type": "execute_result"
    },
    {
     "data": {
      "image/png": "[encoded data removed]",
      "text/plain": [
       "<Figure size 640x480 with 1 Axes>"
      ]
     },
     "metadata": {},
     "output_type": "display_data"
    }
   ],
   "source": [
    "plt.plot(losses)"
   ]
  },
  {
   "cell_type": "code",
   "execution_count": 88,
   "metadata": {},
   "outputs": [
    {
     "data": {
      "text/plain": [
       "[<matplotlib.lines.Line2D at 0x19f265210>]"
      ]
     },
     "execution_count": 88,
     "metadata": {},
     "output_type": "execute_result"
    },
    {
     "data": {
      "image/png": "[encoded data removed]",
      "text/plain": [
       "<Figure size 640x480 with 1 Axes>"
      ]
     },
     "metadata": {},
     "output_type": "display_data"
    }
   ],
   "source": [
    "plt.plot(F1_scores)"
   ]
  },
  {
   "cell_type": "code",
   "execution_count": 175,
   "metadata": {},
   "outputs": [],
   "source": [
    "predictions = []\n",
    "for batch in val_dataloader:\n",
    "    X, y = batch\n",
    "    preds = lstm_only(X)\n",
    "    preds = torch.round(preds)\n",
    "    preds = preds.int()\n",
    "    predictions.append(preds)\n"
   ]
  },
  {
   "cell_type": "code",
   "execution_count": 181,
   "metadata": {},
   "outputs": [],
   "source": [
    "y_pred = torch.tensor(np.array(predictions))[0, :, 0]"
   ]
  },
  {
   "cell_type": "code",
   "execution_count": 185,
   "metadata": {},
   "outputs": [
    {
     "data": {
      "text/plain": [
       "True"
      ]
     },
     "execution_count": 185,
     "metadata": {},
     "output_type": "execute_result"
    }
   ],
   "source": [
    "y_val.shape == y_pred.shape"
   ]
  },
  {
   "cell_type": "code",
   "execution_count": 186,
   "metadata": {},
   "outputs": [
    {
     "data": {
      "text/plain": [
       "0.06760809121881456"
      ]
     },
     "execution_count": 186,
     "metadata": {},
     "output_type": "execute_result"
    }
   ],
   "source": [
    "f1_score(y_pred, y_val, average = 'macro')"
   ]
  },
  {
   "cell_type": "code",
   "execution_count": 57,
   "metadata": {},
   "outputs": [],
   "source": [
    "new_preds = []\n",
    "\n",
    "for lst in predictions:\n",
    "    for a in lst:\n",
    "        new_preds.append(a.item())"
   ]
  },
  {
   "cell_type": "code",
   "execution_count": 60,
   "metadata": {},
   "outputs": [
    {
     "data": {
      "text/plain": [
       "(29273, (29273, 2))"
      ]
     },
     "execution_count": 60,
     "metadata": {},
     "output_type": "execute_result"
    }
   ],
   "source": [
    "len(new_preds), y_train.shape"
   ]
  },
  {
   "cell_type": "code",
   "execution_count": 67,
   "metadata": {},
   "outputs": [
    {
     "data": {
      "text/plain": [
       "0.25057272321093"
      ]
     },
     "execution_count": 67,
     "metadata": {},
     "output_type": "execute_result"
    }
   ],
   "source": [
    "f1_score(y_train, new_preds, average = 'macro')"
   ]
  },
  {
   "cell_type": "code",
   "execution_count": 64,
   "metadata": {},
   "outputs": [
    {
     "data": {
      "text/plain": [
       "tensor([1., 1., 1.,  ..., 1., 1., 1.])"
      ]
     },
     "execution_count": 64,
     "metadata": {},
     "output_type": "execute_result"
    }
   ],
   "source": [
    "y_train"
   ]
  },
  {
   "cell_type": "code",
   "execution_count": null,
   "metadata": {},
   "outputs": [],
   "source": []
  }
 ],
 "metadata": {
  "kernelspec": {
   "display_name": "compstat",
   "language": "python",
   "name": "python3"
  },
  "language_info": {
   "codemirror_mode": {
    "name": "ipython",
    "version": 3
   },
   "file_extension": ".py",
   "mimetype": "text/x-python",
   "name": "python",
   "nbconvert_exporter": "python",
   "pygments_lexer": "ipython3",
   "version": "3.11.5"
  },
  "orig_nbformat": 4
 },
 "nbformat": 4,
 "nbformat_minor": 2
}
