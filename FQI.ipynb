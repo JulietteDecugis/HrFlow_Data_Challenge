{
 "cells": [
  {
   "cell_type": "code",
   "execution_count": 14,
   "metadata": {},
   "outputs": [],
   "source": [
    "import numpy as np\n",
    "import torch\n",
    "from env import MultiAgentEnv\n",
    "from sklearn.ensemble import RandomForestRegressor\n",
    "from tqdm import tqdm\n",
    "import pandas as pd\n",
    "import json\n",
    "import torch.nn as nn\n",
    "import torch.optim as optim\n",
    "import random\n",
    "from collections import deque\n",
    "from new_env import New_env\n",
    "import gymnasium as gym\n",
    "from sklearn.metrics import f1_score, accuracy_score, confusion_matrix\n",
    "from imblearn.over_sampling import RandomOverSampler\n",
    "from joblib import dump, load\n",
    "from sklearn.metrics.pairwise import cosine_similarity\n",
    "import matplotlib.pyplot as plt \n",
    "import seaborn as sns \n",
    "from sklearn.decomposition import PCA\n",
    "\n",
    "import xgboost as xgb\n",
    "\n",
    "\n",
    "from xgboost import XGBClassifier, XGBRegressor\n"
   ]
  },
  {
   "cell_type": "code",
   "execution_count": 3,
   "metadata": {},
   "outputs": [],
   "source": [
    "#X_train length 64\n",
    "\n",
    "X_train = pd.read_csv('/Users/louisedurand-janin/Documents/GitHub/HrFlow_Data_Challenge/data/X_train.csv')\n",
    "X_train['employee embedding'] = X_train['employee embedding'].apply(lambda x: np.array(json.loads(x), dtype=np.float64))\n",
    "X_train['company embedding'] = X_train['company embedding'].apply(lambda x: np.array(json.loads(x), dtype=np.float64))"
   ]
  },
  {
   "cell_type": "code",
   "execution_count": 4,
   "metadata": {},
   "outputs": [],
   "source": [
    "# Y TRAIN\n",
    "y_train = pd.read_csv('/Users/louisedurand-janin/Documents/GitHub/HrFlow_Data_Challenge/data/y_train.csv', index_col=0)\n",
    "encoding_map = {\n",
    "        \"Assistant\": 0,\n",
    "        \"Executive\": 1,\n",
    "        \"Manager\": 2,\n",
    "        \"Director\": 3,\n",
    "        \n",
    "    }\n",
    "\n",
    "y_train = np.array([encoding_map[category] for category in y_train['position']])"
   ]
  },
  {
   "cell_type": "code",
   "execution_count": 166,
   "metadata": {},
   "outputs": [
    {
     "data": {
      "text/plain": [
       "0\n",
       "1    17793\n",
       "0     9023\n",
       "3     1356\n",
       "2     1101\n",
       "Name: count, dtype: int64"
      ]
     },
     "execution_count": 166,
     "metadata": {},
     "output_type": "execute_result"
    }
   ],
   "source": [
    "pd.DataFrame(y_train).value_counts()"
   ]
  },
  {
   "cell_type": "code",
   "execution_count": 4,
   "metadata": {},
   "outputs": [],
   "source": [
    "# Length 64 !!\n",
    "\n",
    "# Convert embeddings columns in PyTorch tensors \n",
    "employee_embedding_tensor = torch.tensor(np.vstack(X_train['employee embedding'].values), dtype=torch.float64)\n",
    "company_embedding_tensor = torch.tensor(np.vstack(X_train['company embedding'].values), dtype=torch.float64)\n",
    "\n",
    "# Concatenate both\n",
    "combined_tensor = torch.cat([employee_embedding_tensor, company_embedding_tensor], dim=1)"
   ]
  },
  {
   "cell_type": "code",
   "execution_count": 5,
   "metadata": {},
   "outputs": [
    {
     "name": "stdout",
     "output_type": "stream",
     "text": [
      "(29273, 6)\n",
      "combined tensor shape torch.Size([29273, 38])\n"
     ]
    }
   ],
   "source": [
    "# Length 38 !!\n",
    "#Reduce company embeddings to length 6 \n",
    "\n",
    "embeddings_company = np.vstack(X_train['company embedding'].values)\n",
    "\n",
    "\n",
    "# Création de l'objet PCA pour réduire à 6 dimensions\n",
    "pca = PCA(n_components=6)\n",
    "\n",
    "# Fit et transformation des embeddings\n",
    "reduced_embeddings = pca.fit_transform(embeddings_company)\n",
    "\n",
    "print(reduced_embeddings.shape) \n",
    "# Convert embeddings columns in PyTorch tensors \n",
    "employee_embedding_tensor = torch.tensor(np.vstack(X_train['employee embedding'].values), dtype=torch.float64)\n",
    "company_embedding_tensor = torch.tensor(reduced_embeddings, dtype=torch.float64)\n",
    "\n",
    "# Concatenate both\n",
    "combined_tensor = torch.cat([employee_embedding_tensor, company_embedding_tensor], dim=1)\n",
    "print(\"combined tensor shape\", combined_tensor.shape)"
   ]
  },
  {
   "cell_type": "code",
   "execution_count": 6,
   "metadata": {},
   "outputs": [],
   "source": [
    "# TEST \n",
    "\n",
    "X_test = pd.read_csv('/Users/louisedurand-janin/Documents/GitHub/HrFlow_Data_Challenge/data/X_train.csv')\n",
    "X_test['employee embedding'] = X_test['employee embedding'].apply(lambda x: np.array(json.loads(x), dtype=np.float64))\n",
    "X_test['company embedding'] = X_test['company embedding'].apply(lambda x: np.array(json.loads(x), dtype=np.float64))"
   ]
  },
  {
   "cell_type": "code",
   "execution_count": 47,
   "metadata": {},
   "outputs": [],
   "source": [
    "# TEST length 64\n",
    "\n",
    "# Convertir les colonnes d'embeddings en tensors PyTorch\n",
    "employee_embedding_tensor_test = torch.tensor(np.vstack(X_test['employee embedding'].values), dtype=torch.float64)\n",
    "company_embedding_tensor_test = torch.tensor(np.vstack(X_test['company embedding'].values), dtype=torch.float64)\n",
    "\n",
    "# Concaténer les deux tensors le long de la dimension appropriée (axis=1 pour ajouter des colonnes)\n",
    "combined_tensor_test = torch.cat([employee_embedding_tensor_test, company_embedding_tensor_test], dim=1)"
   ]
  },
  {
   "cell_type": "code",
   "execution_count": 7,
   "metadata": {},
   "outputs": [
    {
     "name": "stdout",
     "output_type": "stream",
     "text": [
      "(29273, 6)\n",
      "combined tensor shape torch.Size([29273, 38])\n"
     ]
    }
   ],
   "source": [
    "# TEST length 38 \n",
    "\n",
    "embeddings_company_test = np.vstack(X_test['company embedding'].values)\n",
    "\n",
    "\n",
    "# Fit et transformation des embeddings\n",
    "reduced_embeddings_test = pca.transform(embeddings_company_test)\n",
    "\n",
    "print(reduced_embeddings.shape) \n",
    "# Convert embeddings columns in PyTorch tensors \n",
    "employee_embedding_tensor_test = torch.tensor(np.vstack(X_test['employee embedding'].values), dtype=torch.float64)\n",
    "company_embedding_tensor_test = torch.tensor(reduced_embeddings_test, dtype=torch.float64)\n",
    "\n",
    "# Concatenate both\n",
    "combined_tensor_test = torch.cat([employee_embedding_tensor_test, company_embedding_tensor_test], dim=1)\n",
    "print(\"combined tensor shape\", combined_tensor_test.shape)"
   ]
  },
  {
   "cell_type": "code",
   "execution_count": 8,
   "metadata": {},
   "outputs": [],
   "source": [
    "# Y TEST\n",
    "y_test = pd.read_csv(\"/Users/louisedurand-janin/Documents/GitHub/HrFlow_Data_Challenge/data/y_test.csv\", index_col=1)\n",
    "encoding_map = {\n",
    "        \"Assistant\": 0,\n",
    "        \"Executive\": 1,\n",
    "        \"Manager\": 2,\n",
    "        \"Director\": 3,\n",
    "    }\n",
    "y_test = np.array([encoding_map[category] for category in y_test['position']])"
   ]
  },
  {
   "cell_type": "markdown",
   "metadata": {},
   "source": [
    "## OverSampling"
   ]
  },
  {
   "cell_type": "code",
   "execution_count": 37,
   "metadata": {},
   "outputs": [],
   "source": [
    "ros = RandomOverSampler(random_state=0)\n",
    "X_oversampled, y_oversampled = ros.fit_resample(combined_tensor, y_train)\n",
    "X_oversampled, y_oversampled = shuffle(X_oversampled, y_oversampled, random_state=42)"
   ]
  },
  {
   "cell_type": "markdown",
   "metadata": {},
   "source": [
    "## UnderSampling "
   ]
  },
  {
   "cell_type": "code",
   "execution_count": 40,
   "metadata": {},
   "outputs": [],
   "source": [
    "from sklearn.utils import shuffle\n",
    "from imblearn.under_sampling import NearMiss\n",
    "undersample = NearMiss(version=1, n_neighbors=3)\n",
    "X_undersampled, y_undersampled = undersample.fit_resample(np.array(combined_tensor), y_train)\n",
    "X_undersampled, y_undersampled = shuffle(X_undersampled, y_undersampled, random_state=42)"
   ]
  },
  {
   "cell_type": "code",
   "execution_count": 41,
   "metadata": {},
   "outputs": [
    {
     "data": {
      "text/plain": [
       "(4404, 38)"
      ]
     },
     "execution_count": 41,
     "metadata": {},
     "output_type": "execute_result"
    }
   ],
   "source": [
    "X_undersampled.shape"
   ]
  },
  {
   "cell_type": "code",
   "execution_count": 24,
   "metadata": {},
   "outputs": [
    {
     "data": {
      "text/plain": [
       "array([2, 0, 1, ..., 2, 3, 0])"
      ]
     },
     "execution_count": 24,
     "metadata": {},
     "output_type": "execute_result"
    }
   ],
   "source": [
    "y_undersampled"
   ]
  },
  {
   "cell_type": "markdown",
   "metadata": {},
   "source": [
    "## Modify embeddings with constrastive learning "
   ]
  },
  {
   "cell_type": "code",
   "execution_count": 62,
   "metadata": {},
   "outputs": [],
   "source": [
    "# Contrastive learning model \n",
    "\n",
    "class EmbeddingAdjustmentModel(nn.Module):\n",
    "    def __init__(self, embedding_dim, output_dim):\n",
    "        super(EmbeddingAdjustmentModel, self).__init__()\n",
    "        self.fc = nn.Sequential(\n",
    "            nn.Linear(embedding_dim, 512),\n",
    "            nn.ReLU(),\n",
    "            nn.Linear(512, output_dim),\n",
    "            nn.ReLU()\n",
    "        )\n",
    "        \n",
    "    def forward(self, x):\n",
    "        x = self.fc(x)\n",
    "        return x"
   ]
  },
  {
   "cell_type": "code",
   "execution_count": 109,
   "metadata": {},
   "outputs": [],
   "source": [
    "combined_tensor_undersampled = torch.tensor(X_undersampled)\n",
    "embedding_dim = combined_tensor.shape[1]\n",
    "output_dim = 32\n",
    "model = EmbeddingAdjustmentModel(embedding_dim, output_dim)\n",
    "model.load_state_dict(torch.load('/Users/louisedurand-janin/Documents/GitHub/HrFlow_Data_Challenge/model_contrast_32.pt', map_location=torch.device('cpu')))\n",
    "model.eval()\n",
    "with torch.no_grad():\n",
    "    new_embeddings_train = model(combined_tensor)"
   ]
  },
  {
   "cell_type": "code",
   "execution_count": 64,
   "metadata": {},
   "outputs": [
    {
     "data": {
      "text/plain": [
       "torch.Size([4404, 32])"
      ]
     },
     "execution_count": 64,
     "metadata": {},
     "output_type": "execute_result"
    }
   ],
   "source": [
    "new_embeddings_train.shape"
   ]
  },
  {
   "cell_type": "code",
   "execution_count": 10,
   "metadata": {},
   "outputs": [],
   "source": [
    "def collect_samples(env,  disable_tqdm=False, print_done_states=False):\n",
    "    s, _ = env.reset(True)\n",
    "    S = []\n",
    "    A = []\n",
    "    rewards = []\n",
    "    S2 = []\n",
    "    SA = []\n",
    "    done= False\n",
    "    D = []\n",
    "    #print(\"s\", s)\n",
    "    #print(\"true position\", env.y[env.index])\n",
    "\n",
    "    for _ in tqdm(range(env.Emb.shape[0]-1), disable=disable_tqdm):\n",
    "        #print(\"index\", env.index)\n",
    "        #print(len(S))\n",
    "        while done==False:\n",
    "            a = env.sample_action()\n",
    "            s2, emb2s2, r, done, _ = env.step(a)\n",
    "            #print(\"next state preidcted\", s2)\n",
    "            #print(\"next embedding state \", emb2s2)\n",
    "            S.append(s)\n",
    "            #print('shape S', len(S))\n",
    "            A.append(a)\n",
    "            sa = torch.cat([s, torch.tensor(a)])\n",
    "            SA.append(sa)\n",
    "            rewards.append(r)\n",
    "            #print(\"reward\", r)\n",
    "            S2.append(emb2s2)\n",
    "            D.append(done)\n",
    "            #if done:\n",
    "                #s, _ = env.reset(False)\n",
    "                #print(\"new embedding\", s)\n",
    "                #print(\"true position\", env.y[env.index])\n",
    "                #print(\"done!\")\n",
    "            #else:\n",
    "            s = emb2s2\n",
    "        s, _ = env.reset(False)\n",
    "        done = False\n",
    "    S2 = np.array(S2)\n",
    "    S = np.array(S)\n",
    "    A = np.array(A)\n",
    "    D = np.array(D)\n",
    "    SA = np.array(SA)\n",
    "    rewards = np.array(rewards)\n",
    "    return S, A, rewards, S2, D, SA"
   ]
  },
  {
   "cell_type": "code",
   "execution_count": 11,
   "metadata": {},
   "outputs": [
    {
     "name": "stderr",
     "output_type": "stream",
     "text": [
      "  0%|          | 0/29272 [00:00<?, ?it/s]"
     ]
    },
    {
     "name": "stderr",
     "output_type": "stream",
     "text": [
      "/var/folders/hz/p_k7b1g12kz9ykb1cx0n70w00000gn/T/ipykernel_54388/2316599510.py:24: UserWarning: To copy construct from a tensor, it is recommended to use sourceTensor.clone().detach() or sourceTensor.clone().detach().requires_grad_(True), rather than torch.tensor(sourceTensor).\n",
      "  sa = torch.cat([s, torch.tensor(a)])\n",
      "100%|██████████| 29272/29272 [00:49<00:00, 592.00it/s] \n"
     ]
    }
   ],
   "source": [
    "env = New_env(combined_tensor, y_train)\n",
    "S, A, R, S2, D, SA = collect_samples(env)"
   ]
  },
  {
   "cell_type": "code",
   "execution_count": 52,
   "metadata": {},
   "outputs": [
    {
     "data": {
      "text/plain": [
       "4404"
      ]
     },
     "execution_count": 52,
     "metadata": {},
     "output_type": "execute_result"
    }
   ],
   "source": [
    "env.Emb.shape[0]"
   ]
  },
  {
   "cell_type": "code",
   "execution_count": 53,
   "metadata": {},
   "outputs": [
    {
     "data": {
      "text/plain": [
       "(26285,)"
      ]
     },
     "execution_count": 53,
     "metadata": {},
     "output_type": "execute_result"
    }
   ],
   "source": [
    "R.shape"
   ]
  },
  {
   "cell_type": "code",
   "execution_count": 15,
   "metadata": {},
   "outputs": [
    {
     "data": {
      "text/plain": [
       "array([False, False, False, ..., False, False,  True])"
      ]
     },
     "execution_count": 15,
     "metadata": {},
     "output_type": "execute_result"
    }
   ],
   "source": [
    "D.flatten()"
   ]
  },
  {
   "cell_type": "code",
   "execution_count": 15,
   "metadata": {},
   "outputs": [],
   "source": [
    "def rf_fqi(S, A, R, S2, D, SA, iterations, nb_actions=2, gamma=0.9, disable_tqdm=False):\n",
    "    nb_samples = S.shape[0]\n",
    "    Qfunctions = []\n",
    "    #SA = np.append(S,A,axis=1)\n",
    "    for iter in tqdm(range(iterations), disable=disable_tqdm):\n",
    "        #print(\"iteration\", iter)\n",
    "        if iter==0:\n",
    "            value=R.copy()\n",
    "        else:\n",
    "            Q2 = np.zeros((nb_samples,nb_actions))\n",
    "            for a2 in range(nb_actions):\n",
    "                A2 = torch.full((S2.shape[0], 1), a2)\n",
    "                #print(A2.shape)\n",
    "                S2A2 = torch.cat([torch.from_numpy(S2), A2], dim=1)\n",
    "                S2A2_array = np.array(S2A2)\n",
    "                #print(\"shaoe A2S2\", S2A2_array.shape)\n",
    "                predictions = Qfunctions[-1].predict(S2A2_array)\n",
    "                #print(\"shape pred\", predictions.shape)\n",
    "                Q2[:,a2] = Qfunctions[-1].predict(S2A2_array)\n",
    "            max_Q2 = np.max(Q2,axis=1)\n",
    "            #print(\"max Q2\",max_Q2[:10])\n",
    "            print(np.dot((1-D.flatten()),max_Q2))\n",
    "            value = R + gamma*(1-D.flatten())*max_Q2\n",
    "            #print(\"cumulated reward\", value)\n",
    "            #print(\"value\", value.shape)\n",
    "        Q = XGBRegressor()\n",
    "        Q.fit(SA,value)\n",
    "        #print(\"cumulated reward\", value)\n",
    "        Qfunctions.append(Q)\n",
    "    return Qfunctions"
   ]
  },
  {
   "cell_type": "code",
   "execution_count": 16,
   "metadata": {},
   "outputs": [
    {
     "name": "stderr",
     "output_type": "stream",
     "text": [
      " 10%|█         | 1/10 [00:03<00:33,  3.70s/it]"
     ]
    },
    {
     "name": "stdout",
     "output_type": "stream",
     "text": [
      "-26742.651432616054\n"
     ]
    },
    {
     "name": "stderr",
     "output_type": "stream",
     "text": [
      " 20%|██        | 2/10 [00:08<00:36,  4.60s/it]"
     ]
    },
    {
     "name": "stdout",
     "output_type": "stream",
     "text": [
      "-9081.41293703951\n"
     ]
    },
    {
     "name": "stderr",
     "output_type": "stream",
     "text": [
      " 30%|███       | 3/10 [00:12<00:29,  4.18s/it]"
     ]
    },
    {
     "name": "stdout",
     "output_type": "stream",
     "text": [
      "9569.657403488061\n"
     ]
    },
    {
     "name": "stderr",
     "output_type": "stream",
     "text": [
      " 40%|████      | 4/10 [00:16<00:23,  3.98s/it]"
     ]
    },
    {
     "name": "stdout",
     "output_type": "stream",
     "text": [
      "26446.673407736234\n"
     ]
    },
    {
     "name": "stderr",
     "output_type": "stream",
     "text": [
      " 50%|█████     | 5/10 [00:20<00:19,  3.92s/it]"
     ]
    },
    {
     "name": "stdout",
     "output_type": "stream",
     "text": [
      "41015.70767913805\n"
     ]
    },
    {
     "name": "stderr",
     "output_type": "stream",
     "text": [
      " 60%|██████    | 6/10 [00:24<00:15,  3.92s/it]"
     ]
    },
    {
     "name": "stdout",
     "output_type": "stream",
     "text": [
      "54144.00813992316\n"
     ]
    },
    {
     "name": "stderr",
     "output_type": "stream",
     "text": [
      " 70%|███████   | 7/10 [00:27<00:11,  3.90s/it]"
     ]
    },
    {
     "name": "stdout",
     "output_type": "stream",
     "text": [
      "65461.29393131286\n"
     ]
    },
    {
     "name": "stderr",
     "output_type": "stream",
     "text": [
      " 80%|████████  | 8/10 [00:31<00:07,  3.90s/it]"
     ]
    },
    {
     "name": "stdout",
     "output_type": "stream",
     "text": [
      "75893.51113826537\n"
     ]
    },
    {
     "name": "stderr",
     "output_type": "stream",
     "text": [
      " 90%|█████████ | 9/10 [00:35<00:03,  3.91s/it]"
     ]
    },
    {
     "name": "stdout",
     "output_type": "stream",
     "text": [
      "87021.18077568233\n"
     ]
    },
    {
     "name": "stderr",
     "output_type": "stream",
     "text": [
      "100%|██████████| 10/10 [00:39<00:00,  3.96s/it]\n"
     ]
    }
   ],
   "source": [
    "qfunctions = rf_fqi(S, A, R, S2, D, SA, 10)"
   ]
  },
  {
   "cell_type": "code",
   "execution_count": 17,
   "metadata": {},
   "outputs": [],
   "source": [
    "\n",
    "def greedy_action(Q,s,nb_actions=2):\n",
    "    Qsa = []\n",
    "    for a in range(nb_actions):\n",
    "        #print(\"s\", s)\n",
    "        #print(\"a\", torch.tensor([a]))\n",
    "        sa = torch.cat([s, torch.tensor([a])], dim=0)\n",
    "        sa = np.array(sa)\n",
    "        #print(sa.reshape(-1,1).shape)\n",
    "        #print(\"prediction\", Q.predict(sa.reshape(1, -1)))\n",
    "        Qsa.append(Q.predict(sa.reshape(1, -1)))\n",
    "    #print(\"Qsa\", Qsa)\n",
    "    return np.argmax(Qsa)"
   ]
  },
  {
   "cell_type": "code",
   "execution_count": 21,
   "metadata": {},
   "outputs": [
    {
     "name": "stderr",
     "output_type": "stream",
     "text": [
      "  0%|          | 0/29273 [00:00<?, ?it/s]"
     ]
    },
    {
     "name": "stdout",
     "output_type": "stream",
     "text": [
      "action chosen 1\n",
      "s tensor([1.])\n",
      "target 1\n",
      "action chosen 0\n",
      "s tensor([1.])\n",
      "target 1\n",
      "action chosen 0\n",
      "s tensor([1.])\n",
      "target 1\n",
      "action chosen 0\n",
      "s tensor([1.])\n",
      "target 1\n",
      "action chosen 0\n",
      "s tensor([1.])\n",
      "target 1\n",
      "action chosen 0\n",
      "s tensor([1.])\n",
      "target 1\n",
      "action chosen 0\n",
      "s tensor([1.])\n",
      "target 1\n",
      "action chosen 0\n",
      "s tensor([1.])\n",
      "target 1\n"
     ]
    },
    {
     "name": "stderr",
     "output_type": "stream",
     "text": [
      "  0%|          | 2/29273 [00:00<1:39:17,  4.91it/s]"
     ]
    },
    {
     "name": "stdout",
     "output_type": "stream",
     "text": [
      "action chosen 0\n",
      "s tensor([1.])\n",
      "target 1\n",
      "action chosen 0\n",
      "s tensor([1.])\n",
      "target 1\n",
      "action chosen 1\n",
      "s tensor([1.])\n",
      "target 1\n",
      "action chosen 0\n",
      "s tensor([1.])\n",
      "target 1\n",
      "action chosen 0\n",
      "s tensor([1.])\n",
      "target 1\n",
      "action chosen 0\n",
      "s tensor([1.])\n",
      "target 1\n",
      "action chosen 0\n",
      "s tensor([1.])\n",
      "target 1\n",
      "action chosen 0\n",
      "s tensor([1.])\n",
      "target 1\n",
      "action chosen 0\n",
      "s tensor([1.])\n",
      "target 1\n",
      "action chosen 0\n",
      "s tensor([1.])\n",
      "target 1\n",
      "action chosen 0\n",
      "s tensor([1.])\n",
      "target 1\n",
      "action chosen 0\n",
      "s tensor([1.])\n",
      "target 1\n",
      "action chosen 0\n",
      "s tensor([0.])\n",
      "target 1\n",
      "action chosen 0\n",
      "s tensor([0.])\n",
      "target 1\n",
      "action chosen 0\n",
      "s tensor([0.])\n",
      "target 1\n"
     ]
    },
    {
     "name": "stderr",
     "output_type": "stream",
     "text": [
      "  0%|          | 3/29273 [00:00<1:30:15,  5.40it/s]"
     ]
    },
    {
     "name": "stdout",
     "output_type": "stream",
     "text": [
      "action chosen 0\n",
      "s tensor([0.])\n",
      "target 1\n",
      "action chosen 0\n",
      "s tensor([0.])\n",
      "target 1\n",
      "action chosen 0\n",
      "s tensor([0.])\n",
      "target 1\n",
      "action chosen 0\n",
      "s tensor([0.])\n",
      "target 1\n",
      "action chosen 0\n",
      "s tensor([0.])\n",
      "target 1\n",
      "action chosen 0\n",
      "s tensor([0.])\n",
      "target 1\n",
      "action chosen 0\n",
      "s tensor([0.])\n",
      "target 1\n",
      "action chosen 0\n",
      "s tensor([0.])\n",
      "target 1\n",
      "action chosen 0\n",
      "s tensor([0.])\n",
      "target 1\n",
      "action chosen 0\n",
      "s tensor([0.])\n",
      "target 1\n",
      "action chosen 0\n",
      "s tensor([0.])\n",
      "target 1\n",
      "action chosen 0\n",
      "s tensor([0.])\n",
      "target 1\n",
      "action chosen 0\n",
      "s tensor([0.])\n",
      "target 1\n",
      "action chosen 0\n",
      "s tensor([0.])\n",
      "target 1\n",
      "action chosen 0\n",
      "s tensor([0.])\n",
      "target 1\n",
      "action chosen 0\n",
      "s tensor([0.])\n",
      "target 1\n",
      "action chosen 0\n",
      "s "
     ]
    },
    {
     "name": "stderr",
     "output_type": "stream",
     "text": [
      "  0%|          | 5/29273 [00:00<1:01:55,  7.88it/s]"
     ]
    },
    {
     "name": "stdout",
     "output_type": "stream",
     "text": [
      "tensor([0.])\n",
      "target 1\n"
     ]
    },
    {
     "name": "stderr",
     "output_type": "stream",
     "text": [
      "100%|█████████▉| 29272/29273 [08:28<00:00, 57.60it/s] \n"
     ]
    },
    {
     "ename": "IndexError",
     "evalue": "index 29273 is out of bounds for dimension 0 with size 29273",
     "output_type": "error",
     "traceback": [
      "\u001b[0;31m---------------------------------------------------------------------------\u001b[0m",
      "\u001b[0;31mIndexError\u001b[0m                                Traceback (most recent call last)",
      "Cell \u001b[0;32mIn[21], line 27\u001b[0m\n\u001b[1;32m     25\u001b[0m pred\u001b[38;5;241m.\u001b[39mappend(s)\n\u001b[1;32m     26\u001b[0m y_pred\u001b[38;5;241m.\u001b[39mappend(predicted_next_position\u001b[38;5;241m.\u001b[39mitem())\n\u001b[0;32m---> 27\u001b[0m s,_\u001b[38;5;241m=\u001b[39m\u001b[43mcareer_env_test\u001b[49m\u001b[38;5;241;43m.\u001b[39;49m\u001b[43mreset\u001b[49m\u001b[43m(\u001b[49m\u001b[38;5;28;43;01mFalse\u001b[39;49;00m\u001b[43m)\u001b[49m\n",
      "File \u001b[0;32m~/Documents/GitHub/HrFlow_Data_Challenge/new_env.py:48\u001b[0m, in \u001b[0;36mNew_env.reset\u001b[0;34m(self, first_emb)\u001b[0m\n\u001b[1;32m     46\u001b[0m     \u001b[38;5;28mself\u001b[39m\u001b[38;5;241m.\u001b[39mindex \u001b[38;5;241m+\u001b[39m\u001b[38;5;241m=\u001b[39m\u001b[38;5;241m1\u001b[39m\n\u001b[1;32m     47\u001b[0m \u001b[38;5;28mself\u001b[39m\u001b[38;5;241m.\u001b[39mstate \u001b[38;5;241m=\u001b[39m torch\u001b[38;5;241m.\u001b[39mzeros(\u001b[38;5;241m1\u001b[39m)\n\u001b[0;32m---> 48\u001b[0m \u001b[38;5;28mself\u001b[39m\u001b[38;5;241m.\u001b[39mindividual_emb \u001b[38;5;241m=\u001b[39m \u001b[38;5;28;43mself\u001b[39;49m\u001b[38;5;241;43m.\u001b[39;49m\u001b[43mEmb\u001b[49m\u001b[43m[\u001b[49m\u001b[38;5;28;43mself\u001b[39;49m\u001b[38;5;241;43m.\u001b[39;49m\u001b[43mindex\u001b[49m\u001b[43m]\u001b[49m\n\u001b[1;32m     49\u001b[0m \u001b[38;5;28mself\u001b[39m\u001b[38;5;241m.\u001b[39mstate \u001b[38;5;241m=\u001b[39m torch\u001b[38;5;241m.\u001b[39mzeros(\u001b[38;5;241m1\u001b[39m)\n\u001b[1;32m     50\u001b[0m \u001b[38;5;28mself\u001b[39m\u001b[38;5;241m.\u001b[39mindividual_emb_state \u001b[38;5;241m=\u001b[39m torch\u001b[38;5;241m.\u001b[39mcat([\u001b[38;5;28mself\u001b[39m\u001b[38;5;241m.\u001b[39mindividual_emb, \u001b[38;5;28mself\u001b[39m\u001b[38;5;241m.\u001b[39mstate])\n",
      "\u001b[0;31mIndexError\u001b[0m: index 29273 is out of bounds for dimension 0 with size 29273"
     ]
    }
   ],
   "source": [
    "career_env_test = New_env(combined_tensor, y_train)\n",
    "pred=[]\n",
    "y_pred = []\n",
    "s,_ =  career_env_test.reset(True)\n",
    "i=0\n",
    "#for t in tqdm(range(len(y_test))):\n",
    "for t in tqdm(range(len(y_train))):\n",
    "    for k in range(10):\n",
    "        a = greedy_action(qfunctions[-1],s)\n",
    "\n",
    "        predicted_next_position, predicted_next_emb_state, reward, d, _ = career_env_test.step(a)\n",
    "\n",
    "        s = predicted_next_emb_state\n",
    "        if t in [0,1,2,3]:\n",
    "            print(\"action chosen\", a)\n",
    "\n",
    "            print(\"s\", predicted_next_position)\n",
    "            print(\"target\", y_train[i])\n",
    "        #if a ==0:\n",
    "         #   break\n",
    "        \n",
    "        if d:\n",
    "            break\n",
    "    i+=1\n",
    "    pred.append(s)\n",
    "    y_pred.append(predicted_next_position.item())\n",
    "    s,_=career_env_test.reset(False)"
   ]
  },
  {
   "cell_type": "code",
   "execution_count": 135,
   "metadata": {},
   "outputs": [
    {
     "data": {
      "text/plain": [
       "0  \n",
       "0.0    2817\n",
       "3.0     861\n",
       "2.0     435\n",
       "1.0     291\n",
       "Name: count, dtype: int64"
      ]
     },
     "execution_count": 135,
     "metadata": {},
     "output_type": "execute_result"
    }
   ],
   "source": [
    "pd.DataFrame(y_pred).value_counts()\n",
    "\n"
   ]
  },
  {
   "cell_type": "code",
   "execution_count": 136,
   "metadata": {},
   "outputs": [
    {
     "data": {
      "text/plain": [
       "0.3992018691841165"
      ]
     },
     "execution_count": 136,
     "metadata": {},
     "output_type": "execute_result"
    }
   ],
   "source": [
    "f1_score(y_pred, y_undersampled, average=\"macro\")"
   ]
  },
  {
   "cell_type": "code",
   "execution_count": 122,
   "metadata": {},
   "outputs": [],
   "source": [
    "class DQN(nn.Module):\n",
    "    def __init__(self, input_size, hidden_size, nb_actions):\n",
    "        super(DQN, self).__init__()\n",
    "        self.network = nn.Sequential(\n",
    "            nn.Linear(input_size, hidden_size),\n",
    "            nn.ReLU(),\n",
    "            nn.Linear(hidden_size, nb_actions)\n",
    "        )\n",
    "    \n",
    "    def forward(self, x):\n",
    "        return self.network(x)\n",
    "\n",
    "\n",
    "def rf_fqi(S, A, R, S2, D, SA, iterations, nb_actions=2, gamma=0.9, disable_tqdm=False):\n",
    "    nb_samples = S.shape[0]\n",
    "    Qfunctions = []\n",
    "    device = torch.device(\"cuda\" if torch.cuda.is_available() else \"cpu\")\n",
    "    input_size = SA.shape[1]\n",
    "    hidden_size = 128  # Example size\n",
    "    model = DQN(input_size, hidden_size, 1).to(device)\n",
    "    optimizer = optim.Adam(model.parameters(), lr=0.001)\n",
    "    criterion = nn.MSELoss()\n",
    "    #SA = np.append(S,A,axis=1)\n",
    "    for iter in tqdm(range(iterations), disable=disable_tqdm):\n",
    "        #print(\"iteration\", iter)\n",
    "        if iter==0:\n",
    "            value=R.copy()\n",
    "        else:\n",
    "            Q2 = np.zeros((nb_samples,nb_actions))\n",
    "            for a2 in range(nb_actions):\n",
    "                A2 = torch.full((S2.shape[0], 1), a2)\n",
    "                #print(A2.shape)\n",
    "                S2A2 = torch.cat([torch.from_numpy(S2), A2], dim=1)\n",
    "                S2A2_array = np.array(S2A2)\n",
    "                #print(\"shaoe A2S2\", S2A2_array.shape)\n",
    "                predictions = model(S2A2)\n",
    "                #print(\"shape pred\", predictions.shape)\n",
    "                print(Q2.shape)\n",
    "                print(predictions.shape)\n",
    "                Q2[:,a2] = predictions.detach().squeeze()\n",
    "            max_Q2 = np.max(Q2,axis=1)\n",
    "            #print(\"max Q2\",max_Q2[:10])\n",
    "            print(np.dot((1-D.flatten()),max_Q2))\n",
    "            value = R + gamma*(1-D.flatten())*max_Q2\n",
    "            #print(\"cumulated reward\", value)\n",
    "            #print(\"value\", value.shape)\n",
    "        # Prepare SA and value for training\n",
    "        SA_tensor = torch.from_numpy(SA).float().to(device)\n",
    "        value_tensor = torch.from_numpy(value).float().to(device)\n",
    "        print(SA_tensor.shape)\n",
    "        # Train DNN\n",
    "        #print(\"value\",value.shape)\n",
    "        optimizer.zero_grad()\n",
    "        model = model.double()\n",
    "        predictions = model(SA_tensor.double()).squeeze()\n",
    "        print(predictions.shape)\n",
    "        loss = criterion(predictions.double(), value_tensor.double())\n",
    "        loss.backward()\n",
    "        optimizer.step()\n",
    "        torch.save(model, 'model_FQI_deep.pt')\n",
    "        #print(\"cumulated reward\", value)\n",
    "        #Qfunctions.append(Q)\n",
    "    return model.state_dict"
   ]
  },
  {
   "cell_type": "code",
   "execution_count": 123,
   "metadata": {},
   "outputs": [
    {
     "name": "stderr",
     "output_type": "stream",
     "text": [
      "  0%|          | 0/10 [00:00<?, ?it/s]"
     ]
    },
    {
     "name": "stderr",
     "output_type": "stream",
     "text": [
      " 10%|█         | 1/10 [00:00<00:01,  6.73it/s]"
     ]
    },
    {
     "name": "stdout",
     "output_type": "stream",
     "text": [
      "torch.Size([26285, 40])\n",
      "value (26285,)\n",
      "torch.Size([26285])\n",
      "(26285, 2)\n",
      "torch.Size([26285, 1])\n",
      "(26285, 2)\n",
      "torch.Size([26285, 1])\n",
      "-719.408304661079\n",
      "value (26285,)\n",
      "torch.Size([26285, 40])\n",
      "value (26285,)\n",
      "torch.Size([26285])\n"
     ]
    },
    {
     "name": "stderr",
     "output_type": "stream",
     "text": [
      " 30%|███       | 3/10 [00:00<00:01,  4.58it/s]"
     ]
    },
    {
     "name": "stdout",
     "output_type": "stream",
     "text": [
      "(26285, 2)\n",
      "torch.Size([26285, 1])\n",
      "(26285, 2)\n",
      "torch.Size([26285, 1])\n",
      "-1771.6366432190007\n",
      "value (26285,)\n",
      "torch.Size([26285, 40])\n",
      "value (26285,)\n",
      "torch.Size([26285])\n",
      "(26285, 2)\n",
      "torch.Size([26285, 1])\n"
     ]
    },
    {
     "name": "stderr",
     "output_type": "stream",
     "text": [
      " 40%|████      | 4/10 [00:00<00:01,  4.42it/s]"
     ]
    },
    {
     "name": "stdout",
     "output_type": "stream",
     "text": [
      "(26285, 2)\n",
      "torch.Size([26285, 1])\n",
      "-2816.581003465987\n",
      "value (26285,)\n",
      "torch.Size([26285, 40])\n",
      "value (26285,)\n",
      "torch.Size([26285])\n",
      "(26285, 2)\n",
      "torch.Size([26285, 1])\n"
     ]
    },
    {
     "name": "stderr",
     "output_type": "stream",
     "text": [
      " 50%|█████     | 5/10 [00:01<00:01,  4.48it/s]"
     ]
    },
    {
     "name": "stdout",
     "output_type": "stream",
     "text": [
      "(26285, 2)\n",
      "torch.Size([26285, 1])\n",
      "-3855.633643325138\n",
      "value (26285,)\n",
      "torch.Size([26285, 40])\n",
      "value (26285,)\n",
      "torch.Size([26285])\n",
      "(26285, 2)\n",
      "torch.Size([26285, 1])\n"
     ]
    },
    {
     "name": "stderr",
     "output_type": "stream",
     "text": [
      " 60%|██████    | 6/10 [00:01<00:00,  4.49it/s]"
     ]
    },
    {
     "name": "stdout",
     "output_type": "stream",
     "text": [
      "(26285, 2)\n",
      "torch.Size([26285, 1])\n",
      "-4890.331437044628\n",
      "value (26285,)\n",
      "torch.Size([26285, 40])\n",
      "value (26285,)\n",
      "torch.Size([26285])\n",
      "(26285, 2)\n",
      "torch.Size([26285, 1])\n",
      "(26285, 2)\n",
      "torch.Size([26285, 1])\n",
      "-5922.649880416283\n",
      "value (26285,)\n",
      "torch.Size([26285, 40])\n",
      "value (26285,)\n",
      "torch.Size([26285])\n"
     ]
    },
    {
     "name": "stderr",
     "output_type": "stream",
     "text": [
      " 70%|███████   | 7/10 [00:01<00:00,  3.52it/s]"
     ]
    },
    {
     "name": "stdout",
     "output_type": "stream",
     "text": [
      "(26285, 2)\n",
      "torch.Size([26285, 1])\n",
      "(26285, 2)\n",
      "torch.Size([26285, 1])\n",
      "-6954.092254589528\n",
      "value (26285,)\n",
      "torch.Size([26285, 40])\n",
      "value (26285,)\n",
      "torch.Size([26285])\n"
     ]
    },
    {
     "name": "stderr",
     "output_type": "stream",
     "text": [
      " 80%|████████  | 8/10 [00:02<00:00,  3.41it/s]"
     ]
    },
    {
     "name": "stdout",
     "output_type": "stream",
     "text": [
      "(26285, 2)\n",
      "torch.Size([26285, 1])\n",
      "(26285, 2)\n",
      "torch.Size([26285, 1])\n",
      "-7986.394903772739\n",
      "value (26285,)\n",
      "torch.Size([26285, 40])\n",
      "value (26285,)\n",
      "torch.Size([26285])\n"
     ]
    },
    {
     "name": "stderr",
     "output_type": "stream",
     "text": [
      " 90%|█████████ | 9/10 [00:02<00:00,  3.25it/s]"
     ]
    },
    {
     "name": "stdout",
     "output_type": "stream",
     "text": [
      "(26285, 2)\n",
      "torch.Size([26285, 1])\n",
      "(26285, 2)\n",
      "torch.Size([26285, 1])\n",
      "-9021.09588889922\n",
      "value (26285,)\n",
      "torch.Size([26285, 40])\n",
      "value (26285,)\n",
      "torch.Size([26285])\n"
     ]
    },
    {
     "name": "stderr",
     "output_type": "stream",
     "text": [
      "100%|██████████| 10/10 [00:02<00:00,  3.68it/s]\n"
     ]
    }
   ],
   "source": [
    "model_dict = rf_fqi(S, A, R, S2, D, SA, 10)"
   ]
  },
  {
   "cell_type": "code",
   "execution_count": 124,
   "metadata": {},
   "outputs": [
    {
     "ename": "TypeError",
     "evalue": "Expected state_dict to be dict-like, got <class '__main__.DQN'>.",
     "output_type": "error",
     "traceback": [
      "\u001b[0;31m---------------------------------------------------------------------------\u001b[0m",
      "\u001b[0;31mTypeError\u001b[0m                                 Traceback (most recent call last)",
      "Cell \u001b[0;32mIn[124], line 6\u001b[0m\n\u001b[1;32m      3\u001b[0m device\u001b[38;5;241m=\u001b[39m\u001b[38;5;124m\"\u001b[39m\u001b[38;5;124mcpu\u001b[39m\u001b[38;5;124m\"\u001b[39m\n\u001b[1;32m      4\u001b[0m modele \u001b[38;5;241m=\u001b[39m DQN(input_size, hidden_size, \u001b[38;5;241m1\u001b[39m)\u001b[38;5;241m.\u001b[39mto(device)\n\u001b[0;32m----> 6\u001b[0m \u001b[43mmodele\u001b[49m\u001b[38;5;241;43m.\u001b[39;49m\u001b[43mload_state_dict\u001b[49m\u001b[43m(\u001b[49m\u001b[43mtorch\u001b[49m\u001b[38;5;241;43m.\u001b[39;49m\u001b[43mload\u001b[49m\u001b[43m(\u001b[49m\u001b[38;5;124;43m'\u001b[39;49m\u001b[38;5;124;43m/Users/louisedurand-janin/Documents/GitHub/HrFlow_Data_Challenge/model_FQI_deep.pt\u001b[39;49m\u001b[38;5;124;43m'\u001b[39;49m\u001b[43m)\u001b[49m\u001b[43m)\u001b[49m\n\u001b[1;32m      7\u001b[0m modele\u001b[38;5;241m.\u001b[39meval() \n",
      "File \u001b[0;32m~/anaconda3/envs/rlenv/lib/python3.10/site-packages/torch/nn/modules/module.py:2104\u001b[0m, in \u001b[0;36mModule.load_state_dict\u001b[0;34m(self, state_dict, strict, assign)\u001b[0m\n\u001b[1;32m   2069\u001b[0m \u001b[38;5;250m\u001b[39m\u001b[38;5;124mr\u001b[39m\u001b[38;5;124;03m\"\"\"Copy parameters and buffers from :attr:`state_dict` into this module and its descendants.\u001b[39;00m\n\u001b[1;32m   2070\u001b[0m \n\u001b[1;32m   2071\u001b[0m \u001b[38;5;124;03mIf :attr:`strict` is ``True``, then\u001b[39;00m\n\u001b[0;32m   (...)\u001b[0m\n\u001b[1;32m   2101\u001b[0m \u001b[38;5;124;03m    ``RuntimeError``.\u001b[39;00m\n\u001b[1;32m   2102\u001b[0m \u001b[38;5;124;03m\"\"\"\u001b[39;00m\n\u001b[1;32m   2103\u001b[0m \u001b[38;5;28;01mif\u001b[39;00m \u001b[38;5;129;01mnot\u001b[39;00m \u001b[38;5;28misinstance\u001b[39m(state_dict, Mapping):\n\u001b[0;32m-> 2104\u001b[0m     \u001b[38;5;28;01mraise\u001b[39;00m \u001b[38;5;167;01mTypeError\u001b[39;00m(\u001b[38;5;124mf\u001b[39m\u001b[38;5;124m\"\u001b[39m\u001b[38;5;124mExpected state_dict to be dict-like, got \u001b[39m\u001b[38;5;132;01m{\u001b[39;00m\u001b[38;5;28mtype\u001b[39m(state_dict)\u001b[38;5;132;01m}\u001b[39;00m\u001b[38;5;124m.\u001b[39m\u001b[38;5;124m\"\u001b[39m)\n\u001b[1;32m   2106\u001b[0m missing_keys: List[\u001b[38;5;28mstr\u001b[39m] \u001b[38;5;241m=\u001b[39m []\n\u001b[1;32m   2107\u001b[0m unexpected_keys: List[\u001b[38;5;28mstr\u001b[39m] \u001b[38;5;241m=\u001b[39m []\n",
      "\u001b[0;31mTypeError\u001b[0m: Expected state_dict to be dict-like, got <class '__main__.DQN'>."
     ]
    }
   ],
   "source": [
    "input_size = SA.shape[1]\n",
    "hidden_size = 128  # Example size\n",
    "device=\"cpu\"\n",
    "modele = DQN(input_size, hidden_size, 1).to(device)\n",
    "\n",
    "modele.load_state_dict(torch.load('/Users/louisedurand-janin/Documents/GitHub/HrFlow_Data_Challenge/model_FQI_deep.pt'))\n",
    "modele.eval() "
   ]
  },
  {
   "cell_type": "code",
   "execution_count": null,
   "metadata": {},
   "outputs": [],
   "source": [
    "def greedy_action(network, state):\n",
    "    device = \"cuda\" if next(network.parameters()).is_cuda else \"cpu\"\n",
    "    with torch.no_grad():\n",
    "        Q = network(torch.Tensor(state).unsqueeze(0).to(device))\n",
    "        #print(\"Q\", Q)\n",
    "        return torch.argmax(Q).item()"
   ]
  },
  {
   "cell_type": "code",
   "execution_count": null,
   "metadata": {},
   "outputs": [],
   "source": [
    "career_env_test = New_env(torch.tensor(X_undersampled, dtype=torch.float64), torch.tensor(y_undersampled, dtype=torch.float64))\n",
    "pred=[]\n",
    "y_pred = []\n",
    "s,_ =  career_env_test.reset(True)\n",
    "i=0\n",
    "#for t in tqdm(range(len(y_test))):\n",
    "for t in tqdm(range(len(y_undersampled))):\n",
    "    for k in range(5):\n",
    "        a = greedy_action(modele,s)\n",
    "\n",
    "        predicted_next_position, predicted_next_emb_state, reward, d, _ = career_env_test.step(a)\n",
    "\n",
    "        s = predicted_next_emb_state\n",
    "        if t in [0,1,2,3]:\n",
    "            print(\"action chosen\", a)\n",
    "\n",
    "            print(\"s\", predicted_next_position)\n",
    "            print(\"target\", y_undersampled[i])\n",
    "        #if a ==0:\n",
    "         #   break\n",
    "        \n",
    "        if d:\n",
    "            break\n",
    "    i+=1\n",
    "    pred.append(s)\n",
    "    y_pred.append(predicted_next_position.item())\n",
    "    s,_=career_env_test.reset(False)"
   ]
  },
  {
   "cell_type": "code",
   "execution_count": 132,
   "metadata": {},
   "outputs": [],
   "source": [
    "\n",
    "def greedy_action(Q,s,nb_actions=2):\n",
    "    Qsa = []\n",
    "    for a in range(nb_actions):\n",
    "        #print(\"s\", s)\n",
    "        #print(\"a\", torch.tensor([a]))\n",
    "        sa = torch.cat([s, torch.tensor([a])], dim=0)\n",
    "        sa = np.array(sa)\n",
    "        #print(sa.reshape(-1,1).shape)\n",
    "        #print(\"prediction\", Q.predict(sa.reshape(1, -1)))\n",
    "        Qsa.append(Q.predict(sa.reshape(1, -1)))\n",
    "    #print(\"Qsa\", Qsa)\n",
    "    return np.argmax(Qsa)"
   ]
  },
  {
   "cell_type": "code",
   "execution_count": 35,
   "metadata": {},
   "outputs": [
    {
     "data": {
      "text/plain": [
       "tensor([[ 0.0133, -0.3762, -0.6138,  ..., -0.4219, -0.3206, -0.4043],\n",
       "        [-0.2827, -0.0129,  0.2054,  ..., -0.1548,  0.0759, -0.6390],\n",
       "        [ 0.4000, -0.2985, -0.2110,  ..., -0.5598,  0.1031, -0.1492],\n",
       "        ...,\n",
       "        [-0.2505, -0.2068,  0.5609,  ..., -0.1784, -0.3287, -0.4991],\n",
       "        [-0.2505, -0.2068,  0.5609,  ..., -0.8119,  0.0043,  0.2834],\n",
       "        [-0.6191, -0.0630, -0.2045,  ..., -0.3501, -0.6396, -0.5535]])"
      ]
     },
     "execution_count": 35,
     "metadata": {},
     "output_type": "execute_result"
    }
   ],
   "source": [
    "combined_tensor"
   ]
  },
  {
   "cell_type": "code",
   "execution_count": 57,
   "metadata": {},
   "outputs": [
    {
     "name": "stderr",
     "output_type": "stream",
     "text": [
      "100%|█████████▉| 4403/4404 [05:54<00:00, 12.41it/s]\n"
     ]
    },
    {
     "ename": "IndexError",
     "evalue": "index 4404 is out of bounds for dimension 0 with size 4404",
     "output_type": "error",
     "traceback": [
      "\u001b[0;31m---------------------------------------------------------------------------\u001b[0m",
      "\u001b[0;31mIndexError\u001b[0m                                Traceback (most recent call last)",
      "Cell \u001b[0;32mIn[57], line 25\u001b[0m\n\u001b[1;32m     23\u001b[0m \u001b[38;5;66;03m#print(len(pred))\u001b[39;00m\n\u001b[1;32m     24\u001b[0m y_pred\u001b[38;5;241m.\u001b[39mappend(predicted_next_position\u001b[38;5;241m.\u001b[39mitem())\n\u001b[0;32m---> 25\u001b[0m s,_\u001b[38;5;241m=\u001b[39m\u001b[43menv\u001b[49m\u001b[38;5;241;43m.\u001b[39;49m\u001b[43mreset\u001b[49m\u001b[43m(\u001b[49m\u001b[38;5;28;43;01mFalse\u001b[39;49;00m\u001b[43m)\u001b[49m\n",
      "File \u001b[0;32m~/Documents/GitHub/HrFlow_Data_Challenge/new_env.py:48\u001b[0m, in \u001b[0;36mNew_env.reset\u001b[0;34m(self, first_emb)\u001b[0m\n\u001b[1;32m     46\u001b[0m     \u001b[38;5;28mself\u001b[39m\u001b[38;5;241m.\u001b[39mindex \u001b[38;5;241m+\u001b[39m\u001b[38;5;241m=\u001b[39m\u001b[38;5;241m1\u001b[39m\n\u001b[1;32m     47\u001b[0m \u001b[38;5;28mself\u001b[39m\u001b[38;5;241m.\u001b[39mstate \u001b[38;5;241m=\u001b[39m torch\u001b[38;5;241m.\u001b[39mzeros(\u001b[38;5;241m1\u001b[39m)\n\u001b[0;32m---> 48\u001b[0m \u001b[38;5;28mself\u001b[39m\u001b[38;5;241m.\u001b[39mindividual_emb \u001b[38;5;241m=\u001b[39m \u001b[38;5;28;43mself\u001b[39;49m\u001b[38;5;241;43m.\u001b[39;49m\u001b[43mEmb\u001b[49m\u001b[43m[\u001b[49m\u001b[38;5;28;43mself\u001b[39;49m\u001b[38;5;241;43m.\u001b[39;49m\u001b[43mindex\u001b[49m\u001b[43m]\u001b[49m\n\u001b[1;32m     49\u001b[0m \u001b[38;5;28mself\u001b[39m\u001b[38;5;241m.\u001b[39mstate \u001b[38;5;241m=\u001b[39m torch\u001b[38;5;241m.\u001b[39mzeros(\u001b[38;5;241m1\u001b[39m)\n\u001b[1;32m     50\u001b[0m \u001b[38;5;28mself\u001b[39m\u001b[38;5;241m.\u001b[39mindividual_emb_state \u001b[38;5;241m=\u001b[39m torch\u001b[38;5;241m.\u001b[39mcat([\u001b[38;5;28mself\u001b[39m\u001b[38;5;241m.\u001b[39mindividual_emb, \u001b[38;5;28mself\u001b[39m\u001b[38;5;241m.\u001b[39mstate])\n",
      "\u001b[0;31mIndexError\u001b[0m: index 4404 is out of bounds for dimension 0 with size 4404"
     ]
    }
   ],
   "source": [
    "pred=[]\n",
    "y_pred = []\n",
    "s,_ =  env.reset(True)\n",
    "\n",
    "for t in tqdm(range(4404)):\n",
    "    stay_a = 0\n",
    "    dbis=False\n",
    "    for k in range(6):\n",
    "    \n",
    "        \n",
    "        a = greedy_action(qfunctions[-1],s)\n",
    "        if a ==0:\n",
    "            stay_a+=1\n",
    "            if stay_a==2:\n",
    "                dbis=True\n",
    "        predicted_next_position, predicted_next_emb_state, reward, d, _ = env.step(a)\n",
    "        #print(\"s\", s)\n",
    "        s = predicted_next_emb_state\n",
    "\n",
    "        if d or dbis:\n",
    "            break\n",
    "    pred.append(s)\n",
    "    #print(len(pred))\n",
    "    y_pred.append(predicted_next_position.item())\n",
    "    s,_=env.reset(False)\n"
   ]
  },
  {
   "cell_type": "code",
   "execution_count": 58,
   "metadata": {},
   "outputs": [
    {
     "name": "stdout",
     "output_type": "stream",
     "text": [
      "4404\n"
     ]
    }
   ],
   "source": [
    "print(len(y_pred))"
   ]
  },
  {
   "cell_type": "code",
   "execution_count": 26,
   "metadata": {},
   "outputs": [
    {
     "data": {
      "text/plain": [
       "array([0, 0, 0, ..., 3, 3, 3])"
      ]
     },
     "execution_count": 26,
     "metadata": {},
     "output_type": "execute_result"
    }
   ],
   "source": [
    "y_undersampled"
   ]
  },
  {
   "cell_type": "code",
   "execution_count": 35,
   "metadata": {},
   "outputs": [
    {
     "name": "stdout",
     "output_type": "stream",
     "text": [
      "0\n",
      "0    1101\n",
      "1    1101\n",
      "2    1101\n",
      "3    1101\n",
      "Name: count, dtype: int64\n"
     ]
    }
   ],
   "source": [
    "print(pd.DataFrame(y_undersampled).value_counts())"
   ]
  },
  {
   "cell_type": "code",
   "execution_count": 59,
   "metadata": {},
   "outputs": [
    {
     "name": "stdout",
     "output_type": "stream",
     "text": [
      "0  \n",
      "0.0    2299\n",
      "1.0    1089\n",
      "2.0     679\n",
      "3.0     337\n",
      "Name: count, dtype: int64\n"
     ]
    }
   ],
   "source": [
    "print(pd.DataFrame(y_pred).value_counts())"
   ]
  },
  {
   "cell_type": "code",
   "execution_count": 83,
   "metadata": {},
   "outputs": [
    {
     "name": "stdout",
     "output_type": "stream",
     "text": [
      "0  \n",
      "0.0    1706\n",
      "1.0    1266\n",
      "2.0    1007\n",
      "3.0     425\n",
      "Name: count, dtype: int64\n"
     ]
    }
   ],
   "source": [
    "print(pd.DataFrame(y_pred).value_counts())"
   ]
  },
  {
   "cell_type": "code",
   "execution_count": 32,
   "metadata": {},
   "outputs": [
    {
     "data": {
      "text/plain": [
       "array([1, 1, 1, ..., 1, 1, 1])"
      ]
     },
     "execution_count": 32,
     "metadata": {},
     "output_type": "execute_result"
    }
   ],
   "source": [
    "y_train"
   ]
  },
  {
   "cell_type": "code",
   "execution_count": 60,
   "metadata": {},
   "outputs": [
    {
     "name": "stdout",
     "output_type": "stream",
     "text": [
      "0.6405329994259156\n",
      "0.653496821071753\n"
     ]
    }
   ],
   "source": [
    "print(f1_score(y_pred, y_undersampled, average=\"macro\"))\n",
    "print(accuracy_score(y_pred, y_undersampled))"
   ]
  },
  {
   "cell_type": "code",
   "execution_count": 93,
   "metadata": {},
   "outputs": [],
   "source": [
    "combined_tensor_undersampled = torch.tensor(X_undersampled)\n",
    "embedding_dim = combined_tensor_test.shape[1]\n",
    "output_dim = 32\n",
    "model = EmbeddingAdjustmentModel(embedding_dim, output_dim)\n",
    "model.load_state_dict(torch.load('/Users/louisedurand-janin/Documents/GitHub/HrFlow_Data_Challenge/model_contrast_32.pt', map_location=torch.device('cpu')))\n",
    "model.eval()\n",
    "model = model.double() \n",
    "with torch.no_grad():\n",
    "    new_embeddings_test = model(combined_tensor_test)"
   ]
  },
  {
   "cell_type": "code",
   "execution_count": 64,
   "metadata": {},
   "outputs": [],
   "source": [
    "career_env_test = New_env(combined_tensor_test, torch.tensor(y_test))"
   ]
  },
  {
   "cell_type": "code",
   "execution_count": 62,
   "metadata": {},
   "outputs": [
    {
     "data": {
      "text/plain": [
       "7327"
      ]
     },
     "execution_count": 62,
     "metadata": {},
     "output_type": "execute_result"
    }
   ],
   "source": [
    "len(y_test)"
   ]
  },
  {
   "cell_type": "code",
   "execution_count": 65,
   "metadata": {},
   "outputs": [
    {
     "name": "stderr",
     "output_type": "stream",
     "text": [
      "  0%|          | 0/7327 [00:00<?, ?it/s]"
     ]
    },
    {
     "name": "stderr",
     "output_type": "stream",
     "text": [
      "100%|██████████| 7327/7327 [06:13<00:00, 19.62it/s]\n"
     ]
    }
   ],
   "source": [
    "pred=[]\n",
    "y_pred = []\n",
    "s,_ =  career_env_test.reset(True)\n",
    "\n",
    "for t in tqdm(range(len(y_test))):\n",
    "    stay_a = 0\n",
    "    dbis=False\n",
    "    for k in range(6):\n",
    "        a = greedy_action(qfunctions[-1],s)\n",
    "        if a==0:\n",
    "            stay_a+=1\n",
    "            if stay_a ==2:\n",
    "                dbis=True\n",
    "        predicted_next_position, predicted_next_emb_state, reward, d, _ = career_env_test.step(a)\n",
    "        #print(\"s\", s)\n",
    "        s = predicted_next_emb_state\n",
    "\n",
    "        if d or dbis:\n",
    "            break\n",
    "    pred.append(s)\n",
    "    y_pred.append(predicted_next_position.item())\n",
    "    s,_=career_env_test.reset(False)"
   ]
  },
  {
   "cell_type": "code",
   "execution_count": 66,
   "metadata": {},
   "outputs": [
    {
     "name": "stdout",
     "output_type": "stream",
     "text": [
      "0  \n",
      "0.0    5770\n",
      "1.0     767\n",
      "2.0     716\n",
      "3.0      74\n",
      "Name: count, dtype: int64\n"
     ]
    }
   ],
   "source": [
    "print(pd.DataFrame(y_pred).value_counts())"
   ]
  },
  {
   "cell_type": "code",
   "execution_count": 138,
   "metadata": {},
   "outputs": [
    {
     "name": "stdout",
     "output_type": "stream",
     "text": [
      "0.19295223120591057\n",
      "0.24457486010645557\n"
     ]
    }
   ],
   "source": [
    "print(f1_score(y_pred, y_test, average=\"macro\"))\n",
    "print(accuracy_score(y_pred, y_test))"
   ]
  },
  {
   "cell_type": "code",
   "execution_count": 47,
   "metadata": {},
   "outputs": [
    {
     "name": "stdout",
     "output_type": "stream",
     "text": [
      "0.2369557828085949\n",
      "0.255766343660434\n"
     ]
    }
   ],
   "source": [
    "print(f1_score(y_pred, y_test, average=\"macro\"))\n",
    "print(accuracy_score(y_pred, y_test))"
   ]
  },
  {
   "cell_type": "code",
   "execution_count": 97,
   "metadata": {},
   "outputs": [
    {
     "name": "stdout",
     "output_type": "stream",
     "text": [
      "0.20596223086716942\n",
      "0.24498430462672308\n"
     ]
    }
   ],
   "source": [
    "print(f1_score(y_pred, y_test, average=\"macro\"))\n",
    "print(accuracy_score(y_pred, y_test))"
   ]
  },
  {
   "cell_type": "code",
   "execution_count": 67,
   "metadata": {},
   "outputs": [
    {
     "name": "stdout",
     "output_type": "stream",
     "text": [
      "0.17024343425581262\n",
      "0.2537191210590965\n"
     ]
    }
   ],
   "source": [
    "print(f1_score(y_pred, y_test, average=\"macro\"))\n",
    "print(accuracy_score(y_pred, y_test))"
   ]
  },
  {
   "cell_type": "code",
   "execution_count": 98,
   "metadata": {},
   "outputs": [],
   "source": [
    "y_test_real = pd.read_csv(\"/Users/louisedurand-janin/Documents/GitHub/HrFlow_Data_Challenge/data/y_test.csv\", index_col=0)"
   ]
  },
  {
   "cell_type": "code",
   "execution_count": 99,
   "metadata": {},
   "outputs": [],
   "source": [
    "encoding_map = {\n",
    "        0: \"Assistant\",\n",
    "        1:\"Executive\",\n",
    "        2:\"Manager\",\n",
    "        3 :\"Director\",\n",
    "    }\n",
    "y_pred_encoded = np.array([encoding_map[category] for category in y_pred])"
   ]
  },
  {
   "cell_type": "code",
   "execution_count": 100,
   "metadata": {},
   "outputs": [
    {
     "data": {
      "text/html": [
       "<div>\n",
       "<style scoped>\n",
       "    .dataframe tbody tr th:only-of-type {\n",
       "        vertical-align: middle;\n",
       "    }\n",
       "\n",
       "    .dataframe tbody tr th {\n",
       "        vertical-align: top;\n",
       "    }\n",
       "\n",
       "    .dataframe thead th {\n",
       "        text-align: right;\n",
       "    }\n",
       "</style>\n",
       "<table border=\"1\" class=\"dataframe\">\n",
       "  <thead>\n",
       "    <tr style=\"text-align: right;\">\n",
       "      <th></th>\n",
       "      <th>id</th>\n",
       "      <th>position</th>\n",
       "    </tr>\n",
       "  </thead>\n",
       "  <tbody>\n",
       "    <tr>\n",
       "      <th>0</th>\n",
       "      <td>29273</td>\n",
       "      <td>Executive</td>\n",
       "    </tr>\n",
       "    <tr>\n",
       "      <th>1</th>\n",
       "      <td>29274</td>\n",
       "      <td>Executive</td>\n",
       "    </tr>\n",
       "    <tr>\n",
       "      <th>2</th>\n",
       "      <td>29275</td>\n",
       "      <td>Executive</td>\n",
       "    </tr>\n",
       "    <tr>\n",
       "      <th>3</th>\n",
       "      <td>29276</td>\n",
       "      <td>Director</td>\n",
       "    </tr>\n",
       "    <tr>\n",
       "      <th>4</th>\n",
       "      <td>29277</td>\n",
       "      <td>Executive</td>\n",
       "    </tr>\n",
       "    <tr>\n",
       "      <th>...</th>\n",
       "      <td>...</td>\n",
       "      <td>...</td>\n",
       "    </tr>\n",
       "    <tr>\n",
       "      <th>7322</th>\n",
       "      <td>36595</td>\n",
       "      <td>Assistant</td>\n",
       "    </tr>\n",
       "    <tr>\n",
       "      <th>7323</th>\n",
       "      <td>36596</td>\n",
       "      <td>Assistant</td>\n",
       "    </tr>\n",
       "    <tr>\n",
       "      <th>7324</th>\n",
       "      <td>36597</td>\n",
       "      <td>Executive</td>\n",
       "    </tr>\n",
       "    <tr>\n",
       "      <th>7325</th>\n",
       "      <td>36598</td>\n",
       "      <td>Assistant</td>\n",
       "    </tr>\n",
       "    <tr>\n",
       "      <th>7326</th>\n",
       "      <td>36599</td>\n",
       "      <td>Manager</td>\n",
       "    </tr>\n",
       "  </tbody>\n",
       "</table>\n",
       "<p>7327 rows × 2 columns</p>\n",
       "</div>"
      ],
      "text/plain": [
       "         id   position\n",
       "0     29273  Executive\n",
       "1     29274  Executive\n",
       "2     29275  Executive\n",
       "3     29276   Director\n",
       "4     29277  Executive\n",
       "...     ...        ...\n",
       "7322  36595  Assistant\n",
       "7323  36596  Assistant\n",
       "7324  36597  Executive\n",
       "7325  36598  Assistant\n",
       "7326  36599    Manager\n",
       "\n",
       "[7327 rows x 2 columns]"
      ]
     },
     "execution_count": 100,
     "metadata": {},
     "output_type": "execute_result"
    }
   ],
   "source": [
    "\n",
    "y_test_real.drop(['position'], axis=1, inplace=True)\n",
    "y_test_real[\"position\"] = y_pred_encoded\n",
    "\n",
    "y_test_real"
   ]
  },
  {
   "cell_type": "code",
   "execution_count": 53,
   "metadata": {},
   "outputs": [
    {
     "data": {
      "text/html": [
       "<div>\n",
       "<style scoped>\n",
       "    .dataframe tbody tr th:only-of-type {\n",
       "        vertical-align: middle;\n",
       "    }\n",
       "\n",
       "    .dataframe tbody tr th {\n",
       "        vertical-align: top;\n",
       "    }\n",
       "\n",
       "    .dataframe thead th {\n",
       "        text-align: right;\n",
       "    }\n",
       "</style>\n",
       "<table border=\"1\" class=\"dataframe\">\n",
       "  <thead>\n",
       "    <tr style=\"text-align: right;\">\n",
       "      <th></th>\n",
       "      <th>id</th>\n",
       "      <th>position</th>\n",
       "    </tr>\n",
       "  </thead>\n",
       "  <tbody>\n",
       "    <tr>\n",
       "      <th>0</th>\n",
       "      <td>29273</td>\n",
       "      <td>Manager</td>\n",
       "    </tr>\n",
       "    <tr>\n",
       "      <th>1</th>\n",
       "      <td>29274</td>\n",
       "      <td>Assistant</td>\n",
       "    </tr>\n",
       "    <tr>\n",
       "      <th>2</th>\n",
       "      <td>29275</td>\n",
       "      <td>Executive</td>\n",
       "    </tr>\n",
       "    <tr>\n",
       "      <th>3</th>\n",
       "      <td>29276</td>\n",
       "      <td>Manager</td>\n",
       "    </tr>\n",
       "    <tr>\n",
       "      <th>4</th>\n",
       "      <td>29277</td>\n",
       "      <td>Manager</td>\n",
       "    </tr>\n",
       "    <tr>\n",
       "      <th>...</th>\n",
       "      <td>...</td>\n",
       "      <td>...</td>\n",
       "    </tr>\n",
       "    <tr>\n",
       "      <th>7322</th>\n",
       "      <td>36595</td>\n",
       "      <td>Manager</td>\n",
       "    </tr>\n",
       "    <tr>\n",
       "      <th>7323</th>\n",
       "      <td>36596</td>\n",
       "      <td>Assistant</td>\n",
       "    </tr>\n",
       "    <tr>\n",
       "      <th>7324</th>\n",
       "      <td>36597</td>\n",
       "      <td>Executive</td>\n",
       "    </tr>\n",
       "    <tr>\n",
       "      <th>7325</th>\n",
       "      <td>36598</td>\n",
       "      <td>Manager</td>\n",
       "    </tr>\n",
       "    <tr>\n",
       "      <th>7326</th>\n",
       "      <td>36599</td>\n",
       "      <td>Executive</td>\n",
       "    </tr>\n",
       "  </tbody>\n",
       "</table>\n",
       "<p>7327 rows × 2 columns</p>\n",
       "</div>"
      ],
      "text/plain": [
       "         id   position\n",
       "0     29273    Manager\n",
       "1     29274  Assistant\n",
       "2     29275  Executive\n",
       "3     29276    Manager\n",
       "4     29277    Manager\n",
       "...     ...        ...\n",
       "7322  36595    Manager\n",
       "7323  36596  Assistant\n",
       "7324  36597  Executive\n",
       "7325  36598    Manager\n",
       "7326  36599  Executive\n",
       "\n",
       "[7327 rows x 2 columns]"
      ]
     },
     "execution_count": 53,
     "metadata": {},
     "output_type": "execute_result"
    }
   ],
   "source": [
    "y_test_real"
   ]
  },
  {
   "cell_type": "code",
   "execution_count": 104,
   "metadata": {},
   "outputs": [],
   "source": [
    "y_test_real.to_csv('soumission_contrastive.csv', index=True)"
   ]
  },
  {
   "cell_type": "code",
   "execution_count": 60,
   "metadata": {},
   "outputs": [
    {
     "data": {
      "text/plain": [
       "Text(0.5, 25.722222222222214, 'Predicted label')"
      ]
     },
     "execution_count": 60,
     "metadata": {},
     "output_type": "execute_result"
    },
    {
     "data": {
      "image/png": "[encoded data removed]",
      "text/plain": [
       "<Figure size 500x500 with 2 Axes>"
      ]
     },
     "metadata": {},
     "output_type": "display_data"
    }
   ],
   "source": [
    "cm = confusion_matrix(y_test, y_pred)\n",
    "plt.figure(figsize=(5,5))\n",
    "sns.heatmap(cm, annot=True, fmt=\"d\")\n",
    "plt.title('Confusion matrix @{:.2f}'.format(0.5))\n",
    "plt.ylabel('Actual label')\n",
    "plt.xlabel('Predicted label')"
   ]
  }
 ],
 "metadata": {
  "kernelspec": {
   "display_name": "rlenv",
   "language": "python",
   "name": "python3"
  },
  "language_info": {
   "codemirror_mode": {
    "name": "ipython",
    "version": 3
   },
   "file_extension": ".py",
   "mimetype": "text/x-python",
   "name": "python",
   "nbconvert_exporter": "python",
   "pygments_lexer": "ipython3",
   "version": "3.10.13"
  }
 },
 "nbformat": 4,
 "nbformat_minor": 2
}
